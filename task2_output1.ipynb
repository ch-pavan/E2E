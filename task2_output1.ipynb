{
  "cells": [
    {
      "cell_type": "code",
      "execution_count": 8,
      "metadata": {
        "id": "BorWe488mi_g"
      },
      "outputs": [],
      "source": [
        "import pandas as pd\n",
        "import numpy as np\n",
        "import pyarrow.parquet as pq\n",
        "import pyarrow as pa"
      ]
    },
    {
      "cell_type": "code",
      "source": [
        "from google.colab import drive\n",
        "drive.mount('/content/drive')"
      ],
      "metadata": {
        "colab": {
          "base_uri": "https://localhost:8080/"
        },
        "id": "w713oAzEnA1y",
        "outputId": "c997d0e2-6486-484e-ddbd-72555827276e"
      },
      "execution_count": 5,
      "outputs": [
        {
          "output_type": "stream",
          "name": "stdout",
          "text": [
            "Mounted at /content/drive\n"
          ]
        }
      ]
    },
    {
      "cell_type": "code",
      "execution_count": 9,
      "metadata": {
        "id": "b9qEOttzmi_k"
      },
      "outputs": [],
      "source": [
        "parquet_file = pq.ParquetFile(\"/content/drive/MyDrive/QCDToGGQQ_IMGjet_RH1all_jet0_run0_n36272.test.snappy.parquet\")"
      ]
    },
    {
      "cell_type": "code",
      "execution_count": 3,
      "metadata": {
        "colab": {
          "base_uri": "https://localhost:8080/",
          "height": 165
        },
        "id": "VeoZDcLimi_l",
        "outputId": "38da71d5-fb0c-46b2-864e-b6416a3bd6c2"
      },
      "outputs": [
        {
          "output_type": "error",
          "ename": "NameError",
          "evalue": "ignored",
          "traceback": [
            "\u001b[0;31m---------------------------------------------------------------------------\u001b[0m",
            "\u001b[0;31mNameError\u001b[0m                                 Traceback (most recent call last)",
            "\u001b[0;32m<ipython-input-3-86e921dc15b9>\u001b[0m in \u001b[0;36m<module>\u001b[0;34m\u001b[0m\n\u001b[0;32m----> 1\u001b[0;31m \u001b[0mparquet_file\u001b[0m\u001b[0;34m.\u001b[0m\u001b[0mmetadata\u001b[0m\u001b[0;34m\u001b[0m\u001b[0;34m\u001b[0m\u001b[0m\n\u001b[0m",
            "\u001b[0;31mNameError\u001b[0m: name 'parquet_file' is not defined"
          ]
        }
      ],
      "source": [
        "parquet_file.metadata"
      ]
    },
    {
      "cell_type": "code",
      "execution_count": 4,
      "metadata": {
        "colab": {
          "base_uri": "https://localhost:8080/",
          "height": 182
        },
        "id": "OzlpTKcwmi_n",
        "outputId": "5193162c-2a87-4255-cd7e-a885371b934d"
      },
      "outputs": [
        {
          "output_type": "error",
          "ename": "NameError",
          "evalue": "ignored",
          "traceback": [
            "\u001b[0;31m---------------------------------------------------------------------------\u001b[0m",
            "\u001b[0;31mNameError\u001b[0m                                 Traceback (most recent call last)",
            "\u001b[0;32m<ipython-input-4-d34b245c1a5c>\u001b[0m in \u001b[0;36m<module>\u001b[0;34m\u001b[0m\n\u001b[0;32m----> 1\u001b[0;31m \u001b[0mmetadata\u001b[0m \u001b[0;34m=\u001b[0m \u001b[0mpq\u001b[0m\u001b[0;34m.\u001b[0m\u001b[0mread_metadata\u001b[0m\u001b[0;34m(\u001b[0m\u001b[0;34m\"/content/drive/MyDrive/QCDToGGQQ_IMGjet_RH1all_jet0_run0_n36272.test.snappy.parquet\"\u001b[0m\u001b[0;34m)\u001b[0m\u001b[0;34m\u001b[0m\u001b[0;34m\u001b[0m\u001b[0m\n\u001b[0m\u001b[1;32m      2\u001b[0m \u001b[0mmetadata\u001b[0m\u001b[0;34m.\u001b[0m\u001b[0mrow_group\u001b[0m\u001b[0;34m(\u001b[0m\u001b[0;36m0\u001b[0m\u001b[0;34m)\u001b[0m\u001b[0;34m\u001b[0m\u001b[0;34m\u001b[0m\u001b[0m\n",
            "\u001b[0;31mNameError\u001b[0m: name 'pq' is not defined"
          ]
        }
      ],
      "source": [
        "metadata = pq.read_metadata(\"/content/drive/MyDrive/QCDToGGQQ_IMGjet_RH1all_jet0_run0_n36272.test.snappy.parquet\")\n",
        "metadata.row_group(0)"
      ]
    },
    {
      "cell_type": "code",
      "execution_count": null,
      "metadata": {
        "id": "tXzx2qvOmi_o"
      },
      "outputs": [],
      "source": [
        "parquet_file.read_row_group(0)"
      ]
    },
    {
      "cell_type": "code",
      "execution_count": 10,
      "metadata": {
        "id": "os37bnJOmi_o"
      },
      "outputs": [],
      "source": [
        "file_1 = next(parquet_file.iter_batches(batch_size = 8000, columns=['X_jets', 'y'])) \n",
        "df = pa.Table.from_batches([file_1]).to_pandas()\n",
        "del file_1\n",
        "\n",
        "X_dataset = np.array(np.array(np.array(df['X_jets'].tolist()).tolist()).tolist())\n",
        "y_dataset = df['y'].to_numpy()\n",
        "\n",
        "del df"
      ]
    },
    {
      "cell_type": "code",
      "execution_count": 11,
      "metadata": {
        "id": "8uItxO7Dmi_o"
      },
      "outputs": [],
      "source": [
        "import tensorflow as tf\n",
        "from tensorflow.keras.optimizers import Adam\n",
        "from tensorflow.keras.layers import Dense, Flatten, Conv2D, MaxPool2D, Activation, GlobalAveragePooling2D, AveragePooling2D\n",
        "from tensorflow.keras import Sequential\n",
        "from tensorflow.keras import layers\n",
        "from sklearn.model_selection import train_test_split\n",
        "from sklearn.metrics import roc_curve"
      ]
    },
    {
      "cell_type": "code",
      "execution_count": 12,
      "metadata": {
        "id": "HNNsHaSOmi_p"
      },
      "outputs": [],
      "source": [
        "X_train, X_test, y_train, y_test = train_test_split(X_dataset, y_dataset, test_size=0.2, random_state=42)\n",
        "X_train, X_val, y_train, y_val = train_test_split(X_train, y_train, test_size=0.1, random_state=35)"
      ]
    },
    {
      "cell_type": "code",
      "execution_count": 13,
      "metadata": {
        "id": "TFEiWqvTmi_p"
      },
      "outputs": [],
      "source": [
        "X_train = np.moveaxis(X_train, 1, -1)\n",
        "X_test = np.moveaxis(X_test, 1, -1)\n",
        "X_val = np.moveaxis(X_val, 1, -1)"
      ]
    },
    {
      "cell_type": "code",
      "execution_count": 14,
      "metadata": {
        "colab": {
          "base_uri": "https://localhost:8080/"
        },
        "id": "SsvWi8vgmi_q",
        "outputId": "efdeddaf-7412-4d2a-c222-feb7346818c0"
      },
      "outputs": [
        {
          "output_type": "stream",
          "name": "stdout",
          "text": [
            "Epoch 1/10\n",
            "180/180 [==============================] - 32s 97ms/step - loss: 0.6364 - accuracy: 0.6623 - val_loss: 0.5963 - val_accuracy: 0.6922\n",
            "Epoch 2/10\n",
            "180/180 [==============================] - 17s 92ms/step - loss: 0.5922 - accuracy: 0.6960 - val_loss: 0.5875 - val_accuracy: 0.6953\n",
            "Epoch 3/10\n",
            "180/180 [==============================] - 16s 91ms/step - loss: 0.5592 - accuracy: 0.7217 - val_loss: 0.6021 - val_accuracy: 0.6938\n",
            "Epoch 4/10\n",
            "180/180 [==============================] - 16s 91ms/step - loss: 0.5273 - accuracy: 0.7437 - val_loss: 0.5910 - val_accuracy: 0.7047\n",
            "Epoch 5/10\n",
            "180/180 [==============================] - 16s 91ms/step - loss: 0.4807 - accuracy: 0.7755 - val_loss: 0.6498 - val_accuracy: 0.6781\n",
            "Epoch 6/10\n",
            "180/180 [==============================] - 16s 91ms/step - loss: 0.4064 - accuracy: 0.8165 - val_loss: 0.8991 - val_accuracy: 0.6375\n",
            "Epoch 7/10\n",
            "180/180 [==============================] - 16s 90ms/step - loss: 0.2757 - accuracy: 0.8882 - val_loss: 0.9583 - val_accuracy: 0.6328\n",
            "Epoch 8/10\n",
            "180/180 [==============================] - 16s 91ms/step - loss: 0.1409 - accuracy: 0.9505 - val_loss: 1.5709 - val_accuracy: 0.6547\n",
            "Epoch 9/10\n",
            "180/180 [==============================] - 16s 90ms/step - loss: 0.0831 - accuracy: 0.9712 - val_loss: 1.9201 - val_accuracy: 0.6266\n",
            "Epoch 10/10\n",
            "180/180 [==============================] - 16s 90ms/step - loss: 0.0473 - accuracy: 0.9839 - val_loss: 2.8057 - val_accuracy: 0.6359\n"
          ]
        }
      ],
      "source": [
        "tf.random.set_seed(42)\n",
        "\n",
        "model = Sequential([\n",
        "  Conv2D(64, (3,3), activation='relu', input_shape=(125, 125, 3)),\n",
        "  Conv2D(64, (3,3), activation='relu'),\n",
        "  MaxPool2D((2,2)),\n",
        "  Conv2D(128, (3,3), activation='relu'),\n",
        "  Conv2D(128, (3,3), activation='relu'),\n",
        "  Conv2D(128, (3,3), activation='relu'),\n",
        "  Conv2D(128, (3,3), activation='relu'),\n",
        "  MaxPool2D((2,2)),\n",
        "  Flatten(),\n",
        "  Dense(100, activation='relu'),\n",
        "  Dense(1, activation='sigmoid')\n",
        "])\n",
        "\n",
        "# Compile the model\n",
        "model.compile(loss=\"binary_crossentropy\",\n",
        "                optimizer=tf.keras.optimizers.Adam(),\n",
        "                metrics=[\"accuracy\"])\n",
        "\n",
        "# Fit the model\n",
        "history = model.fit(X_train, y_train, batch_size=32,\n",
        "                        epochs=10,\n",
        "                        validation_data=(X_val, y_val)\n",
        "                        )"
      ]
    },
    {
      "cell_type": "code",
      "execution_count": 15,
      "metadata": {
        "id": "gfVqmBxlmi_r"
      },
      "outputs": [],
      "source": [
        "import matplotlib.pyplot as plt\n",
        "def plot_loss_curves(history):\n",
        "  \"\"\"\n",
        "  Returns separate loss curves for training and validation metrics.\n",
        "  \"\"\" \n",
        "  loss = history.history['loss']\n",
        "  val_loss = history.history['val_loss']\n",
        "\n",
        "  accuracy = history.history['accuracy']\n",
        "  val_accuracy = history.history['val_accuracy']\n",
        "\n",
        "  epochs = range(len(history.history['loss']))\n",
        "\n",
        "  # Plot loss\n",
        "  plt.plot(epochs, loss, label='training_loss')\n",
        "  plt.plot(epochs, val_loss, label='val_loss')\n",
        "  plt.title('Loss')\n",
        "  plt.xlabel('Epochs')\n",
        "  plt.legend()\n",
        "\n",
        "  # Plot accuracy\n",
        "  plt.figure()\n",
        "  plt.plot(epochs, accuracy, label='training_accuracy')\n",
        "  plt.plot(epochs, val_accuracy, label='val_accuracy')\n",
        "  plt.title('Accuracy')\n",
        "  plt.xlabel('Epochs')\n",
        "  plt.legend();"
      ]
    },
    {
      "cell_type": "code",
      "source": [
        "plot_loss_curves(history)"
      ],
      "metadata": {
        "colab": {
          "base_uri": "https://localhost:8080/",
          "height": 573
        },
        "id": "aMhQnlaToRGS",
        "outputId": "21207ab6-7034-4939-9bfd-441b65ae8410"
      },
      "execution_count": 16,
      "outputs": [
        {
          "output_type": "display_data",
          "data": {
            "text/plain": [
              "<Figure size 432x288 with 1 Axes>"
            ],
            "image/png": "[encoded data removed]"
          },
          "metadata": {
            "needs_background": "light"
          }
        },
        {
          "output_type": "display_data",
          "data": {
            "text/plain": [
              "<Figure size 432x288 with 1 Axes>"
            ],
            "image/png": "[encoded data removed]"
          },
          "metadata": {
            "needs_background": "light"
          }
        }
      ]
    },
    {
      "cell_type": "code",
      "source": [
        "preds = model.evaluate(X_test, y_test)\n",
        "print (\"Loss = \" + str(preds[0]))\n",
        "print (\"Test Accuracy = \" + str(preds[1]))"
      ],
      "metadata": {
        "colab": {
          "base_uri": "https://localhost:8080/"
        },
        "id": "DJdLR69YoTyP",
        "outputId": "0ee02bd1-d536-41d4-a08d-6cc437df026b"
      },
      "execution_count": 17,
      "outputs": [
        {
          "output_type": "stream",
          "name": "stdout",
          "text": [
            "50/50 [==============================] - 1s 27ms/step - loss: 2.7398 - accuracy: 0.6219\n",
            "Loss = 2.7397522926330566\n",
            "Test Accuracy = 0.621874988079071\n"
          ]
        }
      ]
    },
    {
      "cell_type": "code",
      "source": [
        "y_pred = model.predict(X_test)\n",
        "from sklearn.metrics import roc_auc_score\n",
        "score = roc_auc_score(y_test, y_pred)\n",
        "print(f\"ROC AUC: {score:.4f}\")"
      ],
      "metadata": {
        "colab": {
          "base_uri": "https://localhost:8080/"
        },
        "id": "c0lDwXUgoXbN",
        "outputId": "5806ac08-3263-4e1e-b151-26effefe99ff"
      },
      "execution_count": 18,
      "outputs": [
        {
          "output_type": "stream",
          "name": "stdout",
          "text": [
            "50/50 [==============================] - 1s 25ms/step\n",
            "ROC AUC: 0.6799\n"
          ]
        }
      ]
    },
    {
      "cell_type": "code",
      "source": [],
      "metadata": {
        "id": "ZXKWVDDypowP"
      },
      "execution_count": null,
      "outputs": []
    }
  ],
  "metadata": {
    "kernelspec": {
      "display_name": "Python 3",
      "language": "python",
      "name": "python3"
    },
    "language_info": {
      "codemirror_mode": {
        "name": "ipython",
        "version": 3
      },
      "file_extension": ".py",
      "mimetype": "text/x-python",
      "name": "python",
      "nbconvert_exporter": "python",
      "pygments_lexer": "ipython3",
      "version": "3.10.7"
    },
    "orig_nbformat": 4,
    "vscode": {
      "interpreter": {
        "hash": "8a151962f28880851d9c9b935ce735905a0cdca4ab2bee7c06461b8af94596b7"
      }
    },
    "colab": {
      "provenance": []
    },
    "accelerator": "GPU",
    "gpuClass": "standard"
  },
  "nbformat": 4,
  "nbformat_minor": 0
}