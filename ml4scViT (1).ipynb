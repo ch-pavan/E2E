{
  "cells": [
    {
      "cell_type": "code",
      "execution_count": 1,
      "metadata": {
        "id": "rBlh0qbubi6A"
      },
      "outputs": [],
      "source": [
        "\n",
        "import requests\n",
        "import io\n",
        "url='https://cernbox.cern.ch/remote.php/dav/public-files/FbXw3V4XNyYB3oA/SingleElectronPt50_IMGCROPS_n249k_RHv1.hdf5'\n",
        "with requests.Session() as session:\n",
        "    r = session.get(url, stream=True)\n",
        "    r.raise_for_status()\n",
        "    with open('SingleElectronPt50_IMGCROPS_n249k_RHv1.hdf5', 'wb') as hd5:\n",
        "        for chunk in r.iter_content(chunk_size=io.DEFAULT_BUFFER_SIZE):\n",
        "            hd5.write(chunk)"
      ]
    },
    {
      "cell_type": "code",
      "execution_count": 2,
      "metadata": {
        "id": "MKGcpesVbumY"
      },
      "outputs": [],
      "source": [
        "url='https://cernbox.cern.ch/remote.php/dav/public-files/AtBT8y4MiQYFcgc/SinglePhotonPt50_IMGCROPS_n249k_RHv1.hdf5'\n",
        "with requests.Session() as session:\n",
        "    r = session.get(url, stream=True)\n",
        "    r.raise_for_status()\n",
        "    with open('SinglePhotonPt50_IMGCROPS_n249k_RHv1.hdf5', 'wb') as hd5:\n",
        "        for chunk in r.iter_content(chunk_size=io.DEFAULT_BUFFER_SIZE):\n",
        "            hd5.write(chunk)"
      ]
    },
    {
      "cell_type": "code",
      "execution_count": 1,
      "metadata": {
        "id": "a-ng09j3bwrh"
      },
      "outputs": [],
      "source": [
        "\n",
        "import h5py\n",
        "import numpy as np\n",
        "import pandas as pd\n",
        "import matplotlib.pyplot as plt"
      ]
    },
    {
      "cell_type": "code",
      "execution_count": 2,
      "metadata": {
        "id": "fhjEZITrb2mw"
      },
      "outputs": [],
      "source": [
        "\n",
        "data_electron = h5py.File('/content/SingleElectronPt50_IMGCROPS_n249k_RHv1.hdf5')\n",
        "data_photon = h5py.File('/content/SinglePhotonPt50_IMGCROPS_n249k_RHv1.hdf5')"
      ]
    },
    {
      "cell_type": "code",
      "execution_count": 3,
      "metadata": {
        "id": "6dnvLAbAb4nb"
      },
      "outputs": [],
      "source": [
        "datasets = [data_electron, data_photon]\n",
        "X = np.concatenate([data['/X'][:100000] for data in datasets])\n",
        "y = np.concatenate([data['/y'][:100000] for data in datasets])"
      ]
    },
    {
      "cell_type": "code",
      "execution_count": 4,
      "metadata": {
        "colab": {
          "base_uri": "https://localhost:8080/"
        },
        "id": "vg5asSq0b6VB",
        "outputId": "f831c9db-9453-4e5a-8e42-7186dd49527b"
      },
      "outputs": [
        {
          "output_type": "execute_result",
          "data": {
            "text/plain": [
              "(200000, 32, 32, 3)"
            ]
          },
          "metadata": {},
          "execution_count": 4
        }
      ],
      "source": [
        "arr2_reshaped = np.expand_dims(X[:, :, :, 0], axis=-1)\n",
        "result = np.concatenate([X, arr2_reshaped], axis=-1)\n",
        "result.shape"
      ]
    },
    {
      "cell_type": "code",
      "execution_count": 5,
      "metadata": {
        "colab": {
          "base_uri": "https://localhost:8080/"
        },
        "id": "kuL5w8ficBNn",
        "outputId": "a54066d8-9649-4eca-fd63-2d781f03b4b6"
      },
      "outputs": [
        {
          "output_type": "stream",
          "name": "stdout",
          "text": [
            "Looking in indexes: https://pypi.org/simple, https://us-python.pkg.dev/colab-wheels/public/simple/\n",
            "Requirement already satisfied: tensorflow-addons in /usr/local/lib/python3.9/dist-packages (0.19.0)\n",
            "Requirement already satisfied: packaging in /usr/local/lib/python3.9/dist-packages (from tensorflow-addons) (23.0)\n",
            "Requirement already satisfied: typeguard>=2.7 in /usr/local/lib/python3.9/dist-packages (from tensorflow-addons) (3.0.2)\n",
            "Requirement already satisfied: typing-extensions>=4.4.0 in /usr/local/lib/python3.9/dist-packages (from typeguard>=2.7->tensorflow-addons) (4.5.0)\n",
            "Requirement already satisfied: importlib-metadata>=3.6 in /usr/local/lib/python3.9/dist-packages (from typeguard>=2.7->tensorflow-addons) (6.1.0)\n",
            "Requirement already satisfied: zipp>=0.5 in /usr/local/lib/python3.9/dist-packages (from importlib-metadata>=3.6->typeguard>=2.7->tensorflow-addons) (3.15.0)\n"
          ]
        }
      ],
      "source": [
        "!pip install -U tensorflow-addons"
      ]
    },
    {
      "cell_type": "code",
      "execution_count": 6,
      "metadata": {
        "id": "WGuRr5G5cEYV"
      },
      "outputs": [],
      "source": [
        "import matplotlib.pyplot as plt\n",
        "import numpy as np\n",
        "import tensorflow as tf\n",
        "import tensorflow_addons as tfa\n",
        "from tensorflow import keras\n",
        "from tensorflow.keras import layers\n",
        "from sklearn.metrics import roc_auc_score\n",
        "from sklearn.model_selection import train_test_split\n",
        "from sklearn.metrics import roc_curve"
      ]
    },
    {
      "cell_type": "code",
      "execution_count": 7,
      "metadata": {
        "id": "Wqf9bY5ncGlu"
      },
      "outputs": [],
      "source": [
        "\n",
        "X_train, X_test, y_train, y_test = train_test_split(result, y, test_size=0.2, random_state=42)\n",
        "X_train, X_val, y_train, y_val = train_test_split(X_train, y_train, test_size=0.1, random_state=35)"
      ]
    },
    {
      "cell_type": "code",
      "execution_count": 8,
      "metadata": {
        "id": "eVhvwUEUcJl9"
      },
      "outputs": [],
      "source": [
        "num_classes = 2\n",
        "input_shape = (32, 32, 3)\n",
        "patch_size = (2, 2)  # 2-by-2 sized patches\n",
        "dropout_rate = 0.03  # Dropout rate\n",
        "num_heads = 8  # Attention heads\n",
        "embed_dim = 64  # Embedding dimension\n",
        "num_mlp = 128  # MLP layer size\n",
        "qkv_bias = True  # Convert embedded patches to query, key, and values with a learnable additive value\n",
        "window_size = 2  # Size of attention window\n",
        "shift_size = 1  # Size of shifting window\n",
        "image_dimension = 32  # Initial image size\n",
        "\n",
        "num_patch_x = input_shape[0] // patch_size[0]\n",
        "num_patch_y = input_shape[1] // patch_size[1]\n",
        "\n",
        "learning_rate = 1e-3\n",
        "batch_size = 64\n",
        "num_epochs = 50\n",
        "validation_split = 0.1\n",
        "weight_decay = 0.0001\n",
        "label_smoothing = 0.1"
      ]
    },
    {
      "cell_type": "code",
      "execution_count": 9,
      "metadata": {
        "id": "PyjO22mJcU2Q"
      },
      "outputs": [],
      "source": [
        "def window_partition(x, window_size):\n",
        "    _, height, width, channels = x.shape\n",
        "    patch_num_y = height // window_size\n",
        "    patch_num_x = width // window_size\n",
        "    x = tf.reshape(\n",
        "        x, shape=(-1, patch_num_y, window_size, patch_num_x, window_size, channels)\n",
        "    )\n",
        "    x = tf.transpose(x, (0, 1, 3, 2, 4, 5))\n",
        "    windows = tf.reshape(x, shape=(-1, window_size, window_size, channels))\n",
        "    return windows\n",
        "\n",
        "\n",
        "def window_reverse(windows, window_size, height, width, channels):\n",
        "    patch_num_y = height // window_size\n",
        "    patch_num_x = width // window_size\n",
        "    x = tf.reshape(\n",
        "        windows,\n",
        "        shape=(-1, patch_num_y, patch_num_x, window_size, window_size, channels),\n",
        "    )\n",
        "    x = tf.transpose(x, perm=(0, 1, 3, 2, 4, 5))\n",
        "    x = tf.reshape(x, shape=(-1, height, width, channels))\n",
        "    return x\n",
        "\n",
        "\n",
        "class DropPath(layers.Layer):\n",
        "    def __init__(self, drop_prob=None, **kwargs):\n",
        "        super().__init__(**kwargs)\n",
        "        self.drop_prob = drop_prob\n",
        "\n",
        "    def call(self, x):\n",
        "        input_shape = tf.shape(x)\n",
        "        batch_size = input_shape[0]\n",
        "        rank = x.shape.rank\n",
        "        shape = (batch_size,) + (1,) * (rank - 1)\n",
        "        random_tensor = (1 - self.drop_prob) + tf.random.uniform(shape, dtype=x.dtype)\n",
        "        path_mask = tf.floor(random_tensor)\n",
        "        output = tf.math.divide(x, 1 - self.drop_prob) * path_mask\n",
        "        return output"
      ]
    },
    {
      "cell_type": "code",
      "execution_count": 10,
      "metadata": {
        "id": "LG9ld_ggcbqU"
      },
      "outputs": [],
      "source": [
        "class WindowAttention(layers.Layer):\n",
        "    def __init__(\n",
        "        self, dim, window_size, num_heads, qkv_bias=True, dropout_rate=0.0, **kwargs\n",
        "    ):\n",
        "        super().__init__(**kwargs)\n",
        "        self.dim = dim\n",
        "        self.window_size = window_size\n",
        "        self.num_heads = num_heads\n",
        "        self.scale = (dim // num_heads) ** -0.5\n",
        "        self.qkv = layers.Dense(dim * 3, use_bias=qkv_bias)\n",
        "        self.dropout = layers.Dropout(dropout_rate)\n",
        "        self.proj = layers.Dense(dim)\n",
        "\n",
        "    def build(self, input_shape):\n",
        "        num_window_elements = (2 * self.window_size[0] - 1) * (\n",
        "            2 * self.window_size[1] - 1\n",
        "        )\n",
        "        self.relative_position_bias_table = self.add_weight(\n",
        "            shape=(num_window_elements, self.num_heads),\n",
        "            initializer=tf.initializers.Zeros(),\n",
        "            trainable=True,\n",
        "        )\n",
        "        coords_h = np.arange(self.window_size[0])\n",
        "        coords_w = np.arange(self.window_size[1])\n",
        "        coords_matrix = np.meshgrid(coords_h, coords_w, indexing=\"ij\")\n",
        "        coords = np.stack(coords_matrix)\n",
        "        coords_flatten = coords.reshape(2, -1)\n",
        "        relative_coords = coords_flatten[:, :, None] - coords_flatten[:, None, :]\n",
        "        relative_coords = relative_coords.transpose([1, 2, 0])\n",
        "        relative_coords[:, :, 0] += self.window_size[0] - 1\n",
        "        relative_coords[:, :, 1] += self.window_size[1] - 1\n",
        "        relative_coords[:, :, 0] *= 2 * self.window_size[1] - 1\n",
        "        relative_position_index = relative_coords.sum(-1)\n",
        "\n",
        "        self.relative_position_index = tf.Variable(\n",
        "            initial_value=tf.convert_to_tensor(relative_position_index), trainable=False\n",
        "        )\n",
        "\n",
        "    def call(self, x, mask=None):\n",
        "        _, size, channels = x.shape\n",
        "        head_dim = channels // self.num_heads\n",
        "        x_qkv = self.qkv(x)\n",
        "        x_qkv = tf.reshape(x_qkv, shape=(-1, size, 3, self.num_heads, head_dim))\n",
        "        x_qkv = tf.transpose(x_qkv, perm=(2, 0, 3, 1, 4))\n",
        "        q, k, v = x_qkv[0], x_qkv[1], x_qkv[2]\n",
        "        q = q * self.scale\n",
        "        k = tf.transpose(k, perm=(0, 1, 3, 2))\n",
        "        attn = q @ k\n",
        "\n",
        "        num_window_elements = self.window_size[0] * self.window_size[1]\n",
        "        relative_position_index_flat = tf.reshape(\n",
        "            self.relative_position_index, shape=(-1,)\n",
        "        )\n",
        "        relative_position_bias = tf.gather(\n",
        "            self.relative_position_bias_table, relative_position_index_flat\n",
        "        )\n",
        "        relative_position_bias = tf.reshape(\n",
        "            relative_position_bias, shape=(num_window_elements, num_window_elements, -1)\n",
        "        )\n",
        "        relative_position_bias = tf.transpose(relative_position_bias, perm=(2, 0, 1))\n",
        "        attn = attn + tf.expand_dims(relative_position_bias, axis=0)\n",
        "\n",
        "        if mask is not None:\n",
        "            nW = mask.get_shape()[0]\n",
        "            mask_float = tf.cast(\n",
        "                tf.expand_dims(tf.expand_dims(mask, axis=1), axis=0), tf.float32\n",
        "            )\n",
        "            attn = (\n",
        "                tf.reshape(attn, shape=(-1, nW, self.num_heads, size, size))\n",
        "                + mask_float\n",
        "            )\n",
        "            attn = tf.reshape(attn, shape=(-1, self.num_heads, size, size))\n",
        "            attn = keras.activations.softmax(attn, axis=-1)\n",
        "        else:\n",
        "            attn = keras.activations.softmax(attn, axis=-1)\n",
        "        attn = self.dropout(attn)\n",
        "\n",
        "        x_qkv = attn @ v\n",
        "        x_qkv = tf.transpose(x_qkv, perm=(0, 2, 1, 3))\n",
        "        x_qkv = tf.reshape(x_qkv, shape=(-1, size, channels))\n",
        "        x_qkv = self.proj(x_qkv)\n",
        "        x_qkv = self.dropout(x_qkv)\n",
        "        return x_qkv"
      ]
    },
    {
      "cell_type": "code",
      "execution_count": 11,
      "metadata": {
        "id": "8MywUrSmcf2m"
      },
      "outputs": [],
      "source": [
        "class SwinTransformer(layers.Layer):\n",
        "    def __init__(\n",
        "        self,\n",
        "        dim,\n",
        "        num_patch,\n",
        "        num_heads,\n",
        "        window_size=7,\n",
        "        shift_size=0,\n",
        "        num_mlp=1024,\n",
        "        qkv_bias=True,\n",
        "        dropout_rate=0.0,\n",
        "        **kwargs,\n",
        "    ):\n",
        "        super().__init__(**kwargs)\n",
        "\n",
        "        self.dim = dim  # number of input dimensions\n",
        "        self.num_patch = num_patch  # number of embedded patches\n",
        "        self.num_heads = num_heads  # number of attention heads\n",
        "        self.window_size = window_size  # size of window\n",
        "        self.shift_size = shift_size  # size of window shift\n",
        "        self.num_mlp = num_mlp  # number of MLP nodes\n",
        "\n",
        "        self.norm1 = layers.LayerNormalization(epsilon=1e-5)\n",
        "        self.attn = WindowAttention(\n",
        "            dim,\n",
        "            window_size=(self.window_size, self.window_size),\n",
        "            num_heads=num_heads,\n",
        "            qkv_bias=qkv_bias,\n",
        "            dropout_rate=dropout_rate,\n",
        "        )\n",
        "        self.drop_path = DropPath(dropout_rate)\n",
        "        self.norm2 = layers.LayerNormalization(epsilon=1e-5)\n",
        "\n",
        "        self.mlp = keras.Sequential(\n",
        "            [\n",
        "                layers.Dense(num_mlp),\n",
        "                layers.Activation(keras.activations.gelu),\n",
        "                layers.Dropout(dropout_rate),\n",
        "                layers.Dense(dim),\n",
        "                layers.Dropout(dropout_rate),\n",
        "            ]\n",
        "        )\n",
        "\n",
        "        if min(self.num_patch) < self.window_size:\n",
        "            self.shift_size = 0\n",
        "            self.window_size = min(self.num_patch)\n",
        "\n",
        "    def build(self, input_shape):\n",
        "        if self.shift_size == 0:\n",
        "            self.attn_mask = None\n",
        "        else:\n",
        "            height, width = self.num_patch\n",
        "            h_slices = (\n",
        "                slice(0, -self.window_size),\n",
        "                slice(-self.window_size, -self.shift_size),\n",
        "                slice(-self.shift_size, None),\n",
        "            )\n",
        "            w_slices = (\n",
        "                slice(0, -self.window_size),\n",
        "                slice(-self.window_size, -self.shift_size),\n",
        "                slice(-self.shift_size, None),\n",
        "            )\n",
        "            mask_array = np.zeros((1, height, width, 1))\n",
        "            count = 0\n",
        "            for h in h_slices:\n",
        "                for w in w_slices:\n",
        "                    mask_array[:, h, w, :] = count\n",
        "                    count += 1\n",
        "            mask_array = tf.convert_to_tensor(mask_array)\n",
        "\n",
        "            # mask array to windows\n",
        "            mask_windows = window_partition(mask_array, self.window_size)\n",
        "            mask_windows = tf.reshape(\n",
        "                mask_windows, shape=[-1, self.window_size * self.window_size]\n",
        "            )\n",
        "            attn_mask = tf.expand_dims(mask_windows, axis=1) - tf.expand_dims(\n",
        "                mask_windows, axis=2\n",
        "            )\n",
        "            attn_mask = tf.where(attn_mask != 0, -100.0, attn_mask)\n",
        "            attn_mask = tf.where(attn_mask == 0, 0.0, attn_mask)\n",
        "            self.attn_mask = tf.Variable(initial_value=attn_mask, trainable=False)\n",
        "\n",
        "    def call(self, x):\n",
        "        height, width = self.num_patch\n",
        "        _, num_patches_before, channels = x.shape\n",
        "        x_skip = x\n",
        "        x = self.norm1(x)\n",
        "        x = tf.reshape(x, shape=(-1, height, width, channels))\n",
        "        if self.shift_size > 0:\n",
        "            shifted_x = tf.roll(\n",
        "                x, shift=[-self.shift_size, -self.shift_size], axis=[1, 2]\n",
        "            )\n",
        "        else:\n",
        "            shifted_x = x\n",
        "\n",
        "        x_windows = window_partition(shifted_x, self.window_size)\n",
        "        x_windows = tf.reshape(\n",
        "            x_windows, shape=(-1, self.window_size * self.window_size, channels)\n",
        "        )\n",
        "        attn_windows = self.attn(x_windows, mask=self.attn_mask)\n",
        "\n",
        "        attn_windows = tf.reshape(\n",
        "            attn_windows, shape=(-1, self.window_size, self.window_size, channels)\n",
        "        )\n",
        "        shifted_x = window_reverse(\n",
        "            attn_windows, self.window_size, height, width, channels\n",
        "        )\n",
        "        if self.shift_size > 0:\n",
        "            x = tf.roll(\n",
        "                shifted_x, shift=[self.shift_size, self.shift_size], axis=[1, 2]\n",
        "            )\n",
        "        else:\n",
        "            x = shifted_x\n",
        "\n",
        "        x = tf.reshape(x, shape=(-1, height * width, channels))\n",
        "        x = self.drop_path(x)\n",
        "        x = x_skip + x\n",
        "        x_skip = x\n",
        "        x = self.norm2(x)\n",
        "        x = self.mlp(x)\n",
        "        x = self.drop_path(x)\n",
        "        x = x_skip + x\n",
        "        return x"
      ]
    },
    {
      "cell_type": "code",
      "execution_count": 12,
      "metadata": {
        "id": "2wnZcgVMci1d"
      },
      "outputs": [],
      "source": [
        "class PatchExtract(layers.Layer):\n",
        "    def __init__(self, patch_size, **kwargs):\n",
        "        super().__init__(**kwargs)\n",
        "        self.patch_size_x = patch_size[0]\n",
        "        self.patch_size_y = patch_size[0]\n",
        "\n",
        "    def call(self, images):\n",
        "        batch_size = tf.shape(images)[0]\n",
        "        patches = tf.image.extract_patches(\n",
        "            images=images,\n",
        "            sizes=(1, self.patch_size_x, self.patch_size_y, 1),\n",
        "            strides=(1, self.patch_size_x, self.patch_size_y, 1),\n",
        "            rates=(1, 1, 1, 1),\n",
        "            padding=\"VALID\",\n",
        "        )\n",
        "        patch_dim = patches.shape[-1]\n",
        "        patch_num = patches.shape[1]\n",
        "        return tf.reshape(patches, (batch_size, patch_num * patch_num, patch_dim))\n",
        "\n",
        "\n",
        "class PatchEmbedding(layers.Layer):\n",
        "    def __init__(self, num_patch, embed_dim, **kwargs):\n",
        "        super().__init__(**kwargs)\n",
        "        self.num_patch = num_patch\n",
        "        self.proj = layers.Dense(embed_dim)\n",
        "        self.pos_embed = layers.Embedding(input_dim=num_patch, output_dim=embed_dim)\n",
        "\n",
        "    def call(self, patch):\n",
        "        pos = tf.range(start=0, limit=self.num_patch, delta=1)\n",
        "        return self.proj(patch) + self.pos_embed(pos)\n",
        "\n",
        "\n",
        "class PatchMerging(tf.keras.layers.Layer):\n",
        "    def __init__(self, num_patch, embed_dim):\n",
        "        super().__init__()\n",
        "        self.num_patch = num_patch\n",
        "        self.embed_dim = embed_dim\n",
        "        self.linear_trans = layers.Dense(2 * embed_dim, use_bias=False)\n",
        "\n",
        "    def call(self, x):\n",
        "        height, width = self.num_patch\n",
        "        _, _, C = x.get_shape().as_list()\n",
        "        x = tf.reshape(x, shape=(-1, height, width, C))\n",
        "        x0 = x[:, 0::2, 0::2, :]\n",
        "        x1 = x[:, 1::2, 0::2, :]\n",
        "        x2 = x[:, 0::2, 1::2, :]\n",
        "        x3 = x[:, 1::2, 1::2, :]\n",
        "        x = tf.concat((x0, x1, x2, x3), axis=-1)\n",
        "        x = tf.reshape(x, shape=(-1, (height // 2) * (width // 2), 4 * C))\n",
        "        return self.linear_trans(x)"
      ]
    },
    {
      "cell_type": "code",
      "execution_count": 13,
      "metadata": {
        "id": "LJj9M3pKcnEb"
      },
      "outputs": [],
      "source": [
        "input = layers.Input(input_shape)\n",
        "\n",
        "x = PatchExtract(patch_size)(input)\n",
        "x = PatchEmbedding(num_patch_x * num_patch_y, embed_dim)(x)\n",
        "x = SwinTransformer(\n",
        "    dim=embed_dim,\n",
        "    num_patch=(num_patch_x, num_patch_y),\n",
        "    num_heads=num_heads,\n",
        "    window_size=window_size,\n",
        "    shift_size=0,\n",
        "    num_mlp=num_mlp,\n",
        "    qkv_bias=qkv_bias,\n",
        "    dropout_rate=dropout_rate,\n",
        ")(x)\n",
        "x = SwinTransformer(\n",
        "    dim=embed_dim,\n",
        "    num_patch=(num_patch_x, num_patch_y),\n",
        "    num_heads=num_heads,\n",
        "    window_size=window_size,\n",
        "    shift_size=shift_size,\n",
        "    num_mlp=num_mlp,\n",
        "    qkv_bias=qkv_bias,\n",
        "    dropout_rate=dropout_rate,\n",
        ")(x)\n",
        "x = PatchMerging((num_patch_x, num_patch_y), embed_dim=embed_dim)(x)\n",
        "x = layers.GlobalAveragePooling1D()(x)\n",
        "output = layers.Dense(1, activation=\"sigmoid\")(x)"
      ]
    },
    {
      "cell_type": "code",
      "execution_count": 14,
      "metadata": {
        "colab": {
          "base_uri": "https://localhost:8080/"
        },
        "id": "1JIqK3KCc-Nl",
        "outputId": "d3f1930a-252d-44f9-ea14-c772ab5acbab"
      },
      "outputs": [
        {
          "output_type": "stream",
          "name": "stdout",
          "text": [
            "Epoch 1/50\n",
            "2250/2250 [==============================] - 78s 31ms/step - loss: 0.6573 - accuracy: 0.6100 - val_loss: 0.6201 - val_accuracy: 0.6623\n",
            "Epoch 2/50\n",
            "2250/2250 [==============================] - 66s 29ms/step - loss: 0.6243 - accuracy: 0.6574 - val_loss: 0.6240 - val_accuracy: 0.6561\n",
            "Epoch 3/50\n",
            "2250/2250 [==============================] - 67s 30ms/step - loss: 0.6173 - accuracy: 0.6668 - val_loss: 0.6099 - val_accuracy: 0.6756\n",
            "Epoch 4/50\n",
            "2250/2250 [==============================] - 66s 29ms/step - loss: 0.6142 - accuracy: 0.6701 - val_loss: 0.6378 - val_accuracy: 0.6391\n",
            "Epoch 5/50\n",
            "2250/2250 [==============================] - 66s 30ms/step - loss: 0.6138 - accuracy: 0.6712 - val_loss: 0.6107 - val_accuracy: 0.6759\n",
            "Epoch 6/50\n",
            "2250/2250 [==============================] - 66s 29ms/step - loss: 0.6114 - accuracy: 0.6733 - val_loss: 0.6068 - val_accuracy: 0.6779\n",
            "Epoch 7/50\n",
            "2250/2250 [==============================] - 66s 29ms/step - loss: 0.6110 - accuracy: 0.6738 - val_loss: 0.6111 - val_accuracy: 0.6726\n",
            "Epoch 8/50\n",
            "2250/2250 [==============================] - 66s 29ms/step - loss: 0.6105 - accuracy: 0.6742 - val_loss: 0.6064 - val_accuracy: 0.6726\n",
            "Epoch 9/50\n",
            "2250/2250 [==============================] - 66s 29ms/step - loss: 0.6103 - accuracy: 0.6742 - val_loss: 0.6025 - val_accuracy: 0.6799\n",
            "Epoch 10/50\n",
            "2250/2250 [==============================] - 66s 29ms/step - loss: 0.6090 - accuracy: 0.6757 - val_loss: 0.6042 - val_accuracy: 0.6830\n",
            "Epoch 11/50\n",
            "2250/2250 [==============================] - 65s 29ms/step - loss: 0.6094 - accuracy: 0.6749 - val_loss: 0.6153 - val_accuracy: 0.6704\n",
            "Epoch 12/50\n",
            "2250/2250 [==============================] - 66s 29ms/step - loss: 0.6088 - accuracy: 0.6768 - val_loss: 0.6312 - val_accuracy: 0.6616\n",
            "Epoch 13/50\n",
            "2250/2250 [==============================] - 65s 29ms/step - loss: 0.6078 - accuracy: 0.6776 - val_loss: 0.6057 - val_accuracy: 0.6803\n",
            "Epoch 14/50\n",
            "2250/2250 [==============================] - 66s 30ms/step - loss: 0.6075 - accuracy: 0.6776 - val_loss: 0.6008 - val_accuracy: 0.6862\n",
            "Epoch 15/50\n",
            "2250/2250 [==============================] - 66s 29ms/step - loss: 0.6075 - accuracy: 0.6770 - val_loss: 0.6202 - val_accuracy: 0.6737\n",
            "Epoch 16/50\n",
            "2250/2250 [==============================] - 66s 29ms/step - loss: 0.6070 - accuracy: 0.6773 - val_loss: 0.6095 - val_accuracy: 0.6784\n",
            "Epoch 17/50\n",
            "2250/2250 [==============================] - 66s 29ms/step - loss: 0.6076 - accuracy: 0.6766 - val_loss: 0.6017 - val_accuracy: 0.6897\n",
            "Epoch 18/50\n",
            "2250/2250 [==============================] - 66s 29ms/step - loss: 0.6065 - accuracy: 0.6782 - val_loss: 0.5989 - val_accuracy: 0.6927\n",
            "Epoch 19/50\n",
            "2250/2250 [==============================] - 67s 30ms/step - loss: 0.6063 - accuracy: 0.6770 - val_loss: 0.6026 - val_accuracy: 0.6856\n",
            "Epoch 20/50\n",
            "2250/2250 [==============================] - 66s 29ms/step - loss: 0.6057 - accuracy: 0.6785 - val_loss: 0.6082 - val_accuracy: 0.6779\n",
            "Epoch 21/50\n",
            "2250/2250 [==============================] - 67s 30ms/step - loss: 0.6050 - accuracy: 0.6802 - val_loss: 0.6195 - val_accuracy: 0.6625\n",
            "Epoch 22/50\n",
            "2250/2250 [==============================] - 66s 29ms/step - loss: 0.6059 - accuracy: 0.6786 - val_loss: 0.6103 - val_accuracy: 0.6674\n",
            "Epoch 23/50\n",
            "2250/2250 [==============================] - 67s 30ms/step - loss: 0.6059 - accuracy: 0.6789 - val_loss: 0.6006 - val_accuracy: 0.6858\n",
            "Epoch 24/50\n",
            "2250/2250 [==============================] - 67s 30ms/step - loss: 0.6055 - accuracy: 0.6782 - val_loss: 0.6015 - val_accuracy: 0.6821\n",
            "Epoch 25/50\n",
            "2250/2250 [==============================] - 67s 30ms/step - loss: 0.6062 - accuracy: 0.6783 - val_loss: 0.6045 - val_accuracy: 0.6799\n",
            "Epoch 26/50\n",
            "2250/2250 [==============================] - 66s 29ms/step - loss: 0.6058 - accuracy: 0.6782 - val_loss: 0.6105 - val_accuracy: 0.6751\n",
            "Epoch 27/50\n",
            "2250/2250 [==============================] - 67s 30ms/step - loss: 0.6047 - accuracy: 0.6804 - val_loss: 0.5998 - val_accuracy: 0.6863\n",
            "Epoch 28/50\n",
            "2250/2250 [==============================] - 66s 29ms/step - loss: 0.6054 - accuracy: 0.6793 - val_loss: 0.5981 - val_accuracy: 0.6857\n",
            "Epoch 29/50\n",
            "2250/2250 [==============================] - 66s 29ms/step - loss: 0.6051 - accuracy: 0.6804 - val_loss: 0.5987 - val_accuracy: 0.6879\n",
            "Epoch 30/50\n",
            "2250/2250 [==============================] - 66s 30ms/step - loss: 0.6052 - accuracy: 0.6800 - val_loss: 0.5987 - val_accuracy: 0.6903\n",
            "Epoch 31/50\n",
            "2250/2250 [==============================] - 66s 29ms/step - loss: 0.6060 - accuracy: 0.6781 - val_loss: 0.6018 - val_accuracy: 0.6834\n",
            "Epoch 32/50\n",
            "2250/2250 [==============================] - 66s 29ms/step - loss: 0.6062 - accuracy: 0.6785 - val_loss: 0.6000 - val_accuracy: 0.6881\n",
            "Epoch 33/50\n",
            "2250/2250 [==============================] - 67s 30ms/step - loss: 0.6044 - accuracy: 0.6801 - val_loss: 0.6071 - val_accuracy: 0.6821\n",
            "Epoch 34/50\n",
            "2250/2250 [==============================] - 67s 30ms/step - loss: 0.6061 - accuracy: 0.6782 - val_loss: 0.6062 - val_accuracy: 0.6827\n",
            "Epoch 35/50\n",
            "2250/2250 [==============================] - 66s 29ms/step - loss: 0.6055 - accuracy: 0.6790 - val_loss: 0.5992 - val_accuracy: 0.6868\n",
            "Epoch 36/50\n",
            "2250/2250 [==============================] - 67s 30ms/step - loss: 0.6056 - accuracy: 0.6780 - val_loss: 0.5969 - val_accuracy: 0.6890\n",
            "Epoch 37/50\n",
            "2250/2250 [==============================] - 66s 29ms/step - loss: 0.6062 - accuracy: 0.6780 - val_loss: 0.6059 - val_accuracy: 0.6802\n",
            "Epoch 38/50\n",
            "2250/2250 [==============================] - 67s 30ms/step - loss: 0.6043 - accuracy: 0.6791 - val_loss: 0.5971 - val_accuracy: 0.6879\n",
            "Epoch 39/50\n",
            "2250/2250 [==============================] - 67s 30ms/step - loss: 0.6052 - accuracy: 0.6792 - val_loss: 0.6185 - val_accuracy: 0.6575\n",
            "Epoch 40/50\n",
            "2250/2250 [==============================] - 66s 29ms/step - loss: 0.6051 - accuracy: 0.6783 - val_loss: 0.6022 - val_accuracy: 0.6853\n",
            "Epoch 41/50\n",
            "2250/2250 [==============================] - 66s 30ms/step - loss: 0.6046 - accuracy: 0.6806 - val_loss: 0.5990 - val_accuracy: 0.6902\n",
            "Epoch 42/50\n",
            "2250/2250 [==============================] - 67s 30ms/step - loss: 0.6054 - accuracy: 0.6787 - val_loss: 0.5986 - val_accuracy: 0.6855\n",
            "Epoch 43/50\n",
            "2250/2250 [==============================] - 67s 30ms/step - loss: 0.6049 - accuracy: 0.6808 - val_loss: 0.5947 - val_accuracy: 0.6934\n",
            "Epoch 44/50\n",
            "2250/2250 [==============================] - 66s 29ms/step - loss: 0.6053 - accuracy: 0.6776 - val_loss: 0.5980 - val_accuracy: 0.6838\n",
            "Epoch 45/50\n",
            "2250/2250 [==============================] - 66s 29ms/step - loss: 0.6054 - accuracy: 0.6778 - val_loss: 0.6005 - val_accuracy: 0.6845\n",
            "Epoch 46/50\n",
            "2250/2250 [==============================] - 66s 29ms/step - loss: 0.6040 - accuracy: 0.6792 - val_loss: 0.6050 - val_accuracy: 0.6797\n",
            "Epoch 47/50\n",
            "2250/2250 [==============================] - 66s 29ms/step - loss: 0.6065 - accuracy: 0.6771 - val_loss: 0.6011 - val_accuracy: 0.6831\n",
            "Epoch 48/50\n",
            "2250/2250 [==============================] - 67s 30ms/step - loss: 0.6063 - accuracy: 0.6759 - val_loss: 0.6025 - val_accuracy: 0.6829\n",
            "Epoch 49/50\n",
            "2250/2250 [==============================] - 67s 30ms/step - loss: 0.6046 - accuracy: 0.6790 - val_loss: 0.6160 - val_accuracy: 0.6665\n",
            "Epoch 50/50\n",
            "2250/2250 [==============================] - 66s 29ms/step - loss: 0.6057 - accuracy: 0.6783 - val_loss: 0.6095 - val_accuracy: 0.6813\n"
          ]
        }
      ],
      "source": [
        "model = keras.Model(input, output)\n",
        "model.compile(\n",
        "    loss=\"binary_crossentropy\",\n",
        "    optimizer=tfa.optimizers.AdamW(\n",
        "        learning_rate=learning_rate, weight_decay=weight_decay\n",
        "    ),\n",
        "    metrics=[\"accuracy\"],\n",
        ")\n",
        "\n",
        "history = model.fit(\n",
        "    X_train,\n",
        "    y_train,\n",
        "    batch_size=batch_size,\n",
        "    epochs=num_epochs,\n",
        "    validation_data=(X_val, y_val)\n",
        ")"
      ]
    },
    {
      "cell_type": "code",
      "execution_count": 15,
      "metadata": {
        "id": "lzkJ-UeXdLlR"
      },
      "outputs": [],
      "source": [
        "def plot_loss_curves(history):\n",
        "  \"\"\"\n",
        "  Returns separate loss curves for training and validation metrics.\n",
        "  \"\"\" \n",
        "  loss = history.history['loss']\n",
        "  val_loss = history.history['val_loss']\n",
        "\n",
        "  accuracy = history.history['accuracy']\n",
        "  val_accuracy = history.history['val_accuracy']\n",
        "\n",
        "  epochs = range(len(history.history['loss']))\n",
        "\n",
        "  # Plot loss\n",
        "  plt.plot(epochs, loss, label='training_loss')\n",
        "  plt.plot(epochs, val_loss, label='val_loss')\n",
        "  plt.title('Loss')\n",
        "  plt.xlabel('Epochs')\n",
        "  plt.legend()\n",
        "\n",
        "  # Plot accuracy\n",
        "  plt.figure()\n",
        "  plt.plot(epochs, accuracy, label='training_accuracy')\n",
        "  plt.plot(epochs, val_accuracy, label='val_accuracy')\n",
        "  plt.title('Accuracy')\n",
        "  plt.xlabel('Epochs')\n",
        "  plt.legend();"
      ]
    },
    {
      "cell_type": "code",
      "execution_count": 16,
      "metadata": {
        "colab": {
          "base_uri": "https://localhost:8080/",
          "height": 927
        },
        "id": "ZKi3F100jAuQ",
        "outputId": "e35c22f3-3062-4cb4-d6c0-802ab9b0ff00"
      },
      "outputs": [
        {
          "output_type": "display_data",
          "data": {
            "text/plain": [
              "<Figure size 640x480 with 1 Axes>"
            ],
            "image/png": "[encoded data removed]"
          },
          "metadata": {}
        },
        {
          "output_type": "display_data",
          "data": {
            "text/plain": [
              "<Figure size 640x480 with 1 Axes>"
            ],
            "image/png": "[encoded data removed]"
          },
          "metadata": {}
        }
      ],
      "source": [
        "plot_loss_curves(history)"
      ]
    },
    {
      "cell_type": "code",
      "execution_count": 17,
      "metadata": {
        "colab": {
          "base_uri": "https://localhost:8080/"
        },
        "id": "AJKe0P_tjCtM",
        "outputId": "e4506f0a-4712-4f81-d34c-403bffd8a777"
      },
      "outputs": [
        {
          "output_type": "stream",
          "name": "stdout",
          "text": [
            "1250/1250 [==============================] - 14s 11ms/step - loss: 0.6115 - accuracy: 0.6787\n",
            "Loss = 0.6114782094955444\n",
            "Test Accuracy = 0.678725004196167\n",
            "1250/1250 [==============================] - 7s 5ms/step\n",
            "ROC AUC: 0.7302\n"
          ]
        }
      ],
      "source": [
        "preds = model.evaluate(X_test, y_test)\n",
        "print (\"Loss = \" + str(preds[0]))\n",
        "print (\"Test Accuracy = \" + str(preds[1]))\n",
        "y_pred = model.predict(X_test)\n",
        "from sklearn.metrics import roc_auc_score\n",
        "score = roc_auc_score(y_test, y_pred)\n",
        "print(f\"ROC AUC: {score:.4f}\")"
      ]
    },
    {
      "cell_type": "code",
      "execution_count": null,
      "metadata": {
        "id": "Z_fzCt9fjKEj"
      },
      "outputs": [],
      "source": []
    }
  ],
  "metadata": {
    "accelerator": "GPU",
    "colab": {
      "provenance": []
    },
    "gpuClass": "standard",
    "kernelspec": {
      "display_name": "Python 3",
      "name": "python3"
    },
    "language_info": {
      "name": "python"
    }
  },
  "nbformat": 4,
  "nbformat_minor": 0
}