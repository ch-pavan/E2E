{
  "nbformat": 4,
  "nbformat_minor": 0,
  "metadata": {
    "colab": {
      "provenance": []
    },
    "kernelspec": {
      "name": "python3",
      "display_name": "Python 3"
    },
    "language_info": {
      "name": "python"
    },
    "accelerator": "GPU",
    "gpuClass": "standard"
  },
  "cells": [
    {
      "cell_type": "code",
      "execution_count": 1,
      "metadata": {
        "id": "rF2oKDO-b4Wh"
      },
      "outputs": [],
      "source": [
        "import requests\n",
        "import io\n",
        "url='https://cernbox.cern.ch/remote.php/dav/public-files/FbXw3V4XNyYB3oA/SingleElectronPt50_IMGCROPS_n249k_RHv1.hdf5'\n",
        "with requests.Session() as session:\n",
        "    r = session.get(url, stream=True)\n",
        "    r.raise_for_status()\n",
        "    with open('SingleElectronPt50_IMGCROPS_n249k_RHv1.hdf5', 'wb') as hd5:\n",
        "        for chunk in r.iter_content(chunk_size=io.DEFAULT_BUFFER_SIZE):\n",
        "            hd5.write(chunk)"
      ]
    },
    {
      "cell_type": "code",
      "source": [
        "url='https://cernbox.cern.ch/remote.php/dav/public-files/AtBT8y4MiQYFcgc/SinglePhotonPt50_IMGCROPS_n249k_RHv1.hdf5'\n",
        "with requests.Session() as session:\n",
        "    r = session.get(url, stream=True)\n",
        "    r.raise_for_status()\n",
        "    with open('SinglePhotonPt50_IMGCROPS_n249k_RHv1.hdf5', 'wb') as hd5:\n",
        "        for chunk in r.iter_content(chunk_size=io.DEFAULT_BUFFER_SIZE):\n",
        "            hd5.write(chunk)"
      ],
      "metadata": {
        "id": "W5P2C12sjEYF"
      },
      "execution_count": 2,
      "outputs": []
    },
    {
      "cell_type": "code",
      "source": [
        "import h5py\n",
        "import numpy as np\n",
        "import pandas as pd\n",
        "import matplotlib.pyplot as plt"
      ],
      "metadata": {
        "id": "TC26p-BcfwFA"
      },
      "execution_count": 1,
      "outputs": []
    },
    {
      "cell_type": "code",
      "source": [
        "\n",
        "data_electron = h5py.File('/content/SingleElectronPt50_IMGCROPS_n249k_RHv1.hdf5')\n",
        "data_photon = h5py.File('/content/SinglePhotonPt50_IMGCROPS_n249k_RHv1.hdf5')"
      ],
      "metadata": {
        "id": "HIutkdStdvkR"
      },
      "execution_count": 2,
      "outputs": []
    },
    {
      "cell_type": "code",
      "source": [
        "data_electron['/X'].shape"
      ],
      "metadata": {
        "colab": {
          "base_uri": "https://localhost:8080/"
        },
        "id": "ut6rjNcmpY5h",
        "outputId": "dcb11868-6fae-43ab-fa34-8691b046e858"
      },
      "execution_count": 3,
      "outputs": [
        {
          "output_type": "execute_result",
          "data": {
            "text/plain": [
              "(249000, 32, 32, 2)"
            ]
          },
          "metadata": {},
          "execution_count": 3
        }
      ]
    },
    {
      "cell_type": "code",
      "source": [
        "datasets = [data_electron, data_photon]\n",
        "X = np.concatenate([data['/X'][:128000] for data in datasets])\n",
        "y = np.concatenate([data['/y'][:128000] for data in datasets])"
      ],
      "metadata": {
        "id": "90pRjlKLgNYI"
      },
      "execution_count": 3,
      "outputs": []
    },
    {
      "cell_type": "code",
      "source": [
        "import tensorflow as tf\n",
        "from tensorflow.keras.optimizers import Adam\n",
        "from tensorflow.keras.layers import Dense, Flatten, Conv2D, MaxPool2D, Activation, GlobalAveragePooling2D, AveragePooling2D\n",
        "from tensorflow.keras import Sequential\n",
        "from tensorflow.keras import layers\n",
        "from sklearn.model_selection import train_test_split\n",
        "from sklearn.metrics import roc_curve"
      ],
      "metadata": {
        "id": "y5NUI059j-u-"
      },
      "execution_count": 4,
      "outputs": []
    },
    {
      "cell_type": "code",
      "source": [
        "X_train, X_test, y_train, y_test = train_test_split(X, y, test_size=0.2, random_state=42)\n",
        "X_train, X_val, y_train, y_val = train_test_split(X_train, y_train, test_size=0.1, random_state=35)\n"
      ],
      "metadata": {
        "id": "2RDvgulokYQv"
      },
      "execution_count": 5,
      "outputs": []
    },
    {
      "cell_type": "code",
      "source": [
        "print(X_train.shape)\n",
        "print(X_val.shape)\n",
        "print(X_test.shape)\n",
        "print(y_train.shape)"
      ],
      "metadata": {
        "colab": {
          "base_uri": "https://localhost:8080/"
        },
        "id": "9CFa4t08k-Zh",
        "outputId": "61e59353-fd49-4b27-edc8-7e28f7493933"
      },
      "execution_count": 6,
      "outputs": [
        {
          "output_type": "stream",
          "name": "stdout",
          "text": [
            "(184320, 32, 32, 2)\n",
            "(20480, 32, 32, 2)\n",
            "(51200, 32, 32, 2)\n",
            "(184320,)\n"
          ]
        }
      ]
    },
    {
      "cell_type": "code",
      "source": [
        "plt.figure(1)\n",
        "plt.subplot(221)\n",
        "plt.imshow(X_train[10,:,:,0])\n",
        "\n",
        "plt.subplot(222)\n",
        "plt.imshow(X_train[10,:,:,1])\n"
      ],
      "metadata": {
        "colab": {
          "base_uri": "https://localhost:8080/",
          "height": 166
        },
        "id": "7rKBIzMiqHBT",
        "outputId": "a9f07651-f77f-4857-e10b-26011e088bf5"
      },
      "execution_count": 7,
      "outputs": [
        {
          "output_type": "execute_result",
          "data": {
            "text/plain": [
              "<matplotlib.image.AxesImage at 0x7f04543ced90>"
            ]
          },
          "metadata": {},
          "execution_count": 7
        },
        {
          "output_type": "display_data",
          "data": {
            "text/plain": [
              "<Figure size 432x288 with 2 Axes>"
            ],
            "image/png": "[encoded data removed]"
          },
          "metadata": {
            "needs_background": "light"
          }
        }
      ]
    },
    {
      "cell_type": "code",
      "source": [
        "plt.figure(1)\n",
        "plt.subplot(221)\n",
        "plt.imshow(X_train[1000,:,:,0])\n",
        "\n",
        "\n",
        "plt.subplot(222)\n",
        "plt.imshow(X_train[1000,:,:,1])"
      ],
      "metadata": {
        "colab": {
          "base_uri": "https://localhost:8080/",
          "height": 166
        },
        "id": "Vuwq9fBbqUMT",
        "outputId": "6223fea1-cd74-434d-da0d-bd87ffeef949"
      },
      "execution_count": 8,
      "outputs": [
        {
          "output_type": "execute_result",
          "data": {
            "text/plain": [
              "<matplotlib.image.AxesImage at 0x7f0451ab80a0>"
            ]
          },
          "metadata": {},
          "execution_count": 8
        },
        {
          "output_type": "display_data",
          "data": {
            "text/plain": [
              "<Figure size 432x288 with 2 Axes>"
            ],
            "image/png": "[encoded data removed]"
          },
          "metadata": {
            "needs_background": "light"
          }
        }
      ]
    },
    {
      "cell_type": "code",
      "source": [
        "tf.random.set_seed(42)\n",
        "\n",
        "model = Sequential([\n",
        "  Conv2D(32, (3,3), activation='relu', input_shape=(32, 32, 2)),\n",
        "  Conv2D(32, (3,3), activation='relu'),\n",
        "  Conv2D(64, (3,3), activation='relu'),\n",
        "  Conv2D(64, (3,3), activation='relu'),\n",
        "  MaxPool2D((2,2)),\n",
        "  Flatten(),\n",
        "  Dense(100, activation='relu'),\n",
        "  Dense(1, activation='sigmoid')\n",
        "])\n",
        "\n",
        "# Compile the model\n",
        "model.compile(loss=\"binary_crossentropy\",\n",
        "                optimizer=tf.keras.optimizers.Adam(),\n",
        "                metrics=[\"accuracy\"])\n",
        "\n",
        "# Fit the model\n",
        "history = model.fit(X_train, y_train, batch_size=32,\n",
        "                        epochs=15,\n",
        "                        validation_data=(X_val, y_val)\n",
        "                        )\n",
        "     "
      ],
      "metadata": {
        "colab": {
          "base_uri": "https://localhost:8080/"
        },
        "id": "NgBwm2CPtcpM",
        "outputId": "602a6eae-5a2a-4179-c56f-d8ebdc4c0bb8"
      },
      "execution_count": 10,
      "outputs": [
        {
          "output_type": "stream",
          "name": "stdout",
          "text": [
            "Epoch 1/15\n",
            "5760/5760 [==============================] - 42s 7ms/step - loss: 0.6271 - accuracy: 0.6504 - val_loss: 0.5926 - val_accuracy: 0.6889\n",
            "Epoch 2/15\n",
            "5760/5760 [==============================] - 37s 6ms/step - loss: 0.5791 - accuracy: 0.7025 - val_loss: 0.5677 - val_accuracy: 0.7139\n",
            "Epoch 3/15\n",
            "5760/5760 [==============================] - 36s 6ms/step - loss: 0.5673 - accuracy: 0.7134 - val_loss: 0.5653 - val_accuracy: 0.7161\n",
            "Epoch 4/15\n",
            "5760/5760 [==============================] - 35s 6ms/step - loss: 0.5608 - accuracy: 0.7170 - val_loss: 0.5668 - val_accuracy: 0.7104\n",
            "Epoch 5/15\n",
            "5760/5760 [==============================] - 37s 6ms/step - loss: 0.5559 - accuracy: 0.7211 - val_loss: 0.5481 - val_accuracy: 0.7286\n",
            "Epoch 6/15\n",
            "5760/5760 [==============================] - 35s 6ms/step - loss: 0.5524 - accuracy: 0.7251 - val_loss: 0.5529 - val_accuracy: 0.7228\n",
            "Epoch 7/15\n",
            "5760/5760 [==============================] - 36s 6ms/step - loss: 0.5485 - accuracy: 0.7279 - val_loss: 0.5518 - val_accuracy: 0.7254\n",
            "Epoch 8/15\n",
            "5760/5760 [==============================] - 36s 6ms/step - loss: 0.5456 - accuracy: 0.7304 - val_loss: 0.5517 - val_accuracy: 0.7269\n",
            "Epoch 9/15\n",
            "5760/5760 [==============================] - 36s 6ms/step - loss: 0.5427 - accuracy: 0.7317 - val_loss: 0.5434 - val_accuracy: 0.7312\n",
            "Epoch 10/15\n",
            "5760/5760 [==============================] - 36s 6ms/step - loss: 0.5404 - accuracy: 0.7326 - val_loss: 0.5568 - val_accuracy: 0.7243\n",
            "Epoch 11/15\n",
            "5760/5760 [==============================] - 36s 6ms/step - loss: 0.5371 - accuracy: 0.7356 - val_loss: 0.5487 - val_accuracy: 0.7283\n",
            "Epoch 12/15\n",
            "5760/5760 [==============================] - 35s 6ms/step - loss: 0.5345 - accuracy: 0.7374 - val_loss: 0.5617 - val_accuracy: 0.7271\n",
            "Epoch 13/15\n",
            "5760/5760 [==============================] - 36s 6ms/step - loss: 0.5321 - accuracy: 0.7388 - val_loss: 0.5534 - val_accuracy: 0.7273\n",
            "Epoch 14/15\n",
            "5760/5760 [==============================] - 36s 6ms/step - loss: 0.5296 - accuracy: 0.7406 - val_loss: 0.5552 - val_accuracy: 0.7206\n",
            "Epoch 15/15\n",
            "5760/5760 [==============================] - 36s 6ms/step - loss: 0.5266 - accuracy: 0.7424 - val_loss: 0.5458 - val_accuracy: 0.7293\n"
          ]
        }
      ]
    },
    {
      "cell_type": "code",
      "source": [
        "def plot_loss_curves(history):\n",
        "  \"\"\"\n",
        "  Returns separate loss curves for training and validation metrics.\n",
        "  \"\"\" \n",
        "  loss = history.history['loss']\n",
        "  val_loss = history.history['val_loss']\n",
        "\n",
        "  accuracy = history.history['accuracy']\n",
        "  val_accuracy = history.history['val_accuracy']\n",
        "\n",
        "  epochs = range(len(history.history['loss']))\n",
        "\n",
        "  # Plot loss\n",
        "  plt.plot(epochs, loss, label='training_loss')\n",
        "  plt.plot(epochs, val_loss, label='val_loss')\n",
        "  plt.title('Loss')\n",
        "  plt.xlabel('Epochs')\n",
        "  plt.legend()\n",
        "\n",
        "  # Plot accuracy\n",
        "  plt.figure()\n",
        "  plt.plot(epochs, accuracy, label='training_accuracy')\n",
        "  plt.plot(epochs, val_accuracy, label='val_accuracy')\n",
        "  plt.title('Accuracy')\n",
        "  plt.xlabel('Epochs')\n",
        "  plt.legend();"
      ],
      "metadata": {
        "id": "p4FKvHDRuqI1"
      },
      "execution_count": 11,
      "outputs": []
    },
    {
      "cell_type": "code",
      "source": [
        "plot_loss_curves(history)"
      ],
      "metadata": {
        "colab": {
          "base_uri": "https://localhost:8080/",
          "height": 573
        },
        "id": "pHTdasu_y1vu",
        "outputId": "68c50126-b260-47ec-e59a-3dea65f9e3a4"
      },
      "execution_count": 12,
      "outputs": [
        {
          "output_type": "display_data",
          "data": {
            "text/plain": [
              "<Figure size 432x288 with 1 Axes>"
            ],
            "image/png": "[encoded data removed]"
          },
          "metadata": {
            "needs_background": "light"
          }
        },
        {
          "output_type": "display_data",
          "data": {
            "text/plain": [
              "<Figure size 432x288 with 1 Axes>"
            ],
            "image/png": "[encoded data removed]"
          },
          "metadata": {
            "needs_background": "light"
          }
        }
      ]
    },
    {
      "cell_type": "code",
      "source": [
        "preds = model.evaluate(X_test, y_test)\n",
        "print (\"Loss = \" + str(preds[0]))\n",
        "print (\"Test Accuracy = \" + str(preds[1]))"
      ],
      "metadata": {
        "colab": {
          "base_uri": "https://localhost:8080/"
        },
        "id": "CwUuy11Ey53t",
        "outputId": "e0d35bf9-2ce2-4047-c8c4-2379c1048c26"
      },
      "execution_count": 13,
      "outputs": [
        {
          "output_type": "stream",
          "name": "stdout",
          "text": [
            "1600/1600 [==============================] - 6s 3ms/step - loss: 0.5538 - accuracy: 0.7263\n",
            "Loss = 0.5537940859794617\n",
            "Test Accuracy = 0.7263085842132568\n"
          ]
        }
      ]
    },
    {
      "cell_type": "code",
      "source": [
        "y_pred = model.predict(X_test)\n",
        "y_proba = np.argmax(X_test,axis=1)"
      ],
      "metadata": {
        "id": "9Y3-2T2H1zEL",
        "colab": {
          "base_uri": "https://localhost:8080/"
        },
        "outputId": "3120e81e-7b39-40af-f01f-5feebf1c35f5"
      },
      "execution_count": 14,
      "outputs": [
        {
          "output_type": "stream",
          "name": "stdout",
          "text": [
            "1600/1600 [==============================] - 4s 2ms/step\n"
          ]
        }
      ]
    },
    {
      "cell_type": "code",
      "source": [
        "from sklearn.metrics import roc_curve\n",
        "from sklearn.metrics import RocCurveDisplay\n",
        "def plot_sklearn_roc_curve(y_real, y_pred):\n",
        "    fpr, tpr, _ = roc_curve(y_real, y_pred)\n",
        "    roc_display = RocCurveDisplay(fpr=fpr, tpr=tpr).plot()\n",
        "    roc_display.figure_.set_size_inches(5,5)\n",
        "    plt.plot([0, 1], [0, 1], color = 'g')\n",
        "# Plots the ROC curve using the sklearn methods - Good plot\n",
        "# Plots the ROC curve using the sklearn methods - Bad plot\n",
        "plot_sklearn_roc_curve(y_test, y_pred)"
      ],
      "metadata": {
        "colab": {
          "base_uri": "https://localhost:8080/",
          "height": 334
        },
        "id": "kQsz2T4QsImC",
        "outputId": "ad9b2024-b1c3-4311-e5e0-275d2efc8698"
      },
      "execution_count": 15,
      "outputs": [
        {
          "output_type": "display_data",
          "data": {
            "text/plain": [
              "<Figure size 360x360 with 1 Axes>"
            ],
            "image/png": "[encoded data removed]"
          },
          "metadata": {
            "needs_background": "light"
          }
        }
      ]
    },
    {
      "cell_type": "code",
      "source": [
        "from sklearn.metrics import roc_auc_score\n",
        "score = roc_auc_score(y_test, y_pred)\n",
        "print(f\"ROC AUC: {score:.4f}\")"
      ],
      "metadata": {
        "colab": {
          "base_uri": "https://localhost:8080/"
        },
        "id": "Zo_1oP2cuoch",
        "outputId": "b1bdb2c7-dd6b-4fe6-c48e-b6faae5abfe4"
      },
      "execution_count": 16,
      "outputs": [
        {
          "output_type": "stream",
          "name": "stdout",
          "text": [
            "ROC AUC: 0.7934\n"
          ]
        }
      ]
    },
    {
      "cell_type": "code",
      "source": [],
      "metadata": {
        "id": "LVogC5AgZZX8"
      },
      "execution_count": null,
      "outputs": []
    }
  ]
}