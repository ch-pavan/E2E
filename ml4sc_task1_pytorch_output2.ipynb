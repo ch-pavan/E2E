{
  "nbformat": 4,
  "nbformat_minor": 0,
  "metadata": {
    "colab": {
      "provenance": []
    },
    "kernelspec": {
      "name": "python3",
      "display_name": "Python 3"
    },
    "language_info": {
      "name": "python"
    },
    "accelerator": "GPU",
    "gpuClass": "standard"
  },
  "cells": [
    {
      "cell_type": "code",
      "source": [
        "import requests\n",
        "import io\n",
        "url='https://cernbox.cern.ch/remote.php/dav/public-files/FbXw3V4XNyYB3oA/SingleElectronPt50_IMGCROPS_n249k_RHv1.hdf5'\n",
        "with requests.Session() as session:\n",
        "    r = session.get(url, stream=True)\n",
        "    r.raise_for_status()\n",
        "    with open('SingleElectronPt50_IMGCROPS_n249k_RHv1.hdf5', 'wb') as hd5:\n",
        "        for chunk in r.iter_content(chunk_size=io.DEFAULT_BUFFER_SIZE):\n",
        "            hd5.write(chunk)"
      ],
      "metadata": {
        "id": "LSOXspBnZiKP"
      },
      "execution_count": null,
      "outputs": []
    },
    {
      "cell_type": "code",
      "source": [
        "url='https://cernbox.cern.ch/remote.php/dav/public-files/AtBT8y4MiQYFcgc/SinglePhotonPt50_IMGCROPS_n249k_RHv1.hdf5'\n",
        "with requests.Session() as session:\n",
        "    r = session.get(url, stream=True)\n",
        "    r.raise_for_status()\n",
        "    with open('SinglePhotonPt50_IMGCROPS_n249k_RHv1.hdf5', 'wb') as hd5:\n",
        "        for chunk in r.iter_content(chunk_size=io.DEFAULT_BUFFER_SIZE):\n",
        "            hd5.write(chunk)"
      ],
      "metadata": {
        "id": "ak_sifzAZkIB"
      },
      "execution_count": null,
      "outputs": []
    },
    {
      "cell_type": "code",
      "execution_count": null,
      "metadata": {
        "id": "fOWF1dYvZcIi"
      },
      "outputs": [],
      "source": [
        "import h5py\n",
        "import numpy as np\n",
        "import pandas as pd\n",
        "import matplotlib.pyplot as plt\n",
        "import torch\n",
        "import torchvision\n",
        "import torch.nn as nn\n",
        "import torch.optim as optim\n",
        "from torch.optim import lr_scheduler\n",
        "from torchvision import datasets, transforms\n",
        "import torch.nn.functional as F\n",
        "from sklearn.model_selection import train_test_split\n",
        "from sklearn.metrics import roc_curve"
      ]
    },
    {
      "cell_type": "code",
      "source": [
        "data_electron = h5py.File('/content/SingleElectronPt50_IMGCROPS_n249k_RHv1.hdf5')\n",
        "data_photon = h5py.File('/content/SinglePhotonPt50_IMGCROPS_n249k_RHv1.hdf5')"
      ],
      "metadata": {
        "id": "UoCBU5_VaBSE"
      },
      "execution_count": null,
      "outputs": []
    },
    {
      "cell_type": "code",
      "source": [
        "datasets = [data_electron, data_photon]\n",
        "X = np.concatenate([data['/X'][:16000] for data in datasets])\n",
        "y = np.concatenate([data['/y'][:16000] for data in datasets])"
      ],
      "metadata": {
        "id": "bR8LVPStaIdr"
      },
      "execution_count": null,
      "outputs": []
    },
    {
      "cell_type": "code",
      "source": [
        "arr2_reshaped = np.expand_dims(X[:, :, :, 0], axis=-1)\n",
        "result = np.concatenate([X, arr2_reshaped], axis=-1)\n",
        "result.shape"
      ],
      "metadata": {
        "colab": {
          "base_uri": "https://localhost:8080/"
        },
        "id": "EQc9PitweWx9",
        "outputId": "4430ec33-b5ae-41c5-b68a-0cf3ce20fbe6"
      },
      "execution_count": null,
      "outputs": [
        {
          "output_type": "execute_result",
          "data": {
            "text/plain": [
              "(32000, 32, 32, 3)"
            ]
          },
          "metadata": {},
          "execution_count": 5
        }
      ]
    },
    {
      "cell_type": "code",
      "source": [
        "result = np.moveaxis(result, 1, -1)\n",
        "result.shape"
      ],
      "metadata": {
        "colab": {
          "base_uri": "https://localhost:8080/"
        },
        "id": "hFzEkkaEpxrk",
        "outputId": "af020d2a-7456-41c3-dc2a-008fd433f8dd"
      },
      "execution_count": null,
      "outputs": [
        {
          "output_type": "execute_result",
          "data": {
            "text/plain": [
              "(32000, 3, 32, 32)"
            ]
          },
          "metadata": {},
          "execution_count": 7
        }
      ]
    },
    {
      "cell_type": "code",
      "source": [
        "X_train, X_test, y_train, y_test = train_test_split(result, y, test_size=0.2, random_state=42)\n",
        "X_train, X_val, y_train, y_val = train_test_split(X_train, y_train, test_size=0.1, random_state=35)"
      ],
      "metadata": {
        "id": "N3ChrPF2aLij"
      },
      "execution_count": null,
      "outputs": []
    },
    {
      "cell_type": "code",
      "source": [
        "print(X_train.shape)\n",
        "print(X_val.shape)\n",
        "print(X_test.shape)\n",
        "print(y_train.shape)"
      ],
      "metadata": {
        "colab": {
          "base_uri": "https://localhost:8080/"
        },
        "id": "xulgY8jXaNBx",
        "outputId": "c64f8f0d-abf6-468a-98ce-eb39ab6da9d8"
      },
      "execution_count": null,
      "outputs": [
        {
          "output_type": "stream",
          "name": "stdout",
          "text": [
            "(23040, 3, 32, 32)\n",
            "(2560, 3, 32, 32)\n",
            "(6400, 3, 32, 32)\n",
            "(23040,)\n"
          ]
        }
      ]
    },
    {
      "cell_type": "code",
      "source": [
        "from torch.utils.data import DataLoader, TensorDataset\n",
        "X_train = torch.tensor(X_train, dtype=torch.float32)\n",
        "y_train = torch.tensor(y_train, dtype=torch.float32)\n",
        "y_train = y_train.type(torch.LongTensor)\n",
        "train_dataset = TensorDataset(X_train, y_train)\n",
        "trainloader = DataLoader(train_dataset, batch_size=32, shuffle=True)"
      ],
      "metadata": {
        "id": "FEb6jPYrlW2d"
      },
      "execution_count": null,
      "outputs": []
    },
    {
      "cell_type": "code",
      "source": [
        "X_val = torch.tensor(X_val, dtype=torch.float32)\n",
        "y_val = torch.tensor(y_val, dtype=torch.float32)\n",
        "y_val = y_val.type(torch.LongTensor)\n",
        "val_dataset = TensorDataset(X_val, y_val)\n",
        "val_loader = DataLoader(val_dataset, batch_size=32, shuffle=True)"
      ],
      "metadata": {
        "id": "wB1uhNviJprP"
      },
      "execution_count": null,
      "outputs": []
    },
    {
      "cell_type": "code",
      "source": [
        "X_test = torch.tensor(X_train, dtype=torch.float32)\n",
        "y_test = torch.tensor(y_train, dtype=torch.float32)\n",
        "y_test = y_test.type(torch.LongTensor)\n",
        "test_dataset = TensorDataset(X_train, y_train)\n",
        "testloader = DataLoader(test_dataset, batch_size=32)"
      ],
      "metadata": {
        "colab": {
          "base_uri": "https://localhost:8080/"
        },
        "id": "JWWL38FMWcWk",
        "outputId": "695e0ead-de87-4c96-ff41-b700e99339b6"
      },
      "execution_count": null,
      "outputs": [
        {
          "output_type": "stream",
          "name": "stderr",
          "text": [
            "<ipython-input-12-f80108c13f3c>:1: UserWarning: To copy construct from a tensor, it is recommended to use sourceTensor.clone().detach() or sourceTensor.clone().detach().requires_grad_(True), rather than torch.tensor(sourceTensor).\n",
            "  X_test = torch.tensor(X_train, dtype=torch.float32)\n",
            "<ipython-input-12-f80108c13f3c>:2: UserWarning: To copy construct from a tensor, it is recommended to use sourceTensor.clone().detach() or sourceTensor.clone().detach().requires_grad_(True), rather than torch.tensor(sourceTensor).\n",
            "  y_test = torch.tensor(y_train, dtype=torch.float32)\n"
          ]
        }
      ]
    },
    {
      "cell_type": "code",
      "source": [
        "device = torch.device('cuda')"
      ],
      "metadata": {
        "id": "EUXlHJW6LwJN"
      },
      "execution_count": null,
      "outputs": []
    },
    {
      "cell_type": "code",
      "source": [
        "class Net(nn.Module):\n",
        "    def __init__(self):\n",
        "        super().__init__()\n",
        "        self.conv1 = nn.Conv2d(in_channels=3, out_channels=32, kernel_size=3, stride=1, padding=1)\n",
        "        self.relu1 = nn.ReLU(inplace=True)\n",
        "        self.pool1 = nn.MaxPool2d(kernel_size=2, stride=2)\n",
        "        \n",
        "        self.conv2 = nn.Conv2d(in_channels=32, out_channels=64, kernel_size=3, stride=1, padding=1)\n",
        "        self.relu2 = nn.ReLU(inplace=True)\n",
        "        self.pool2 = nn.MaxPool2d(kernel_size=2, stride=2)\n",
        "        \n",
        "        self.conv3 = nn.Conv2d(in_channels=64, out_channels=128, kernel_size=3, stride=1, padding=1)\n",
        "        self.relu3 = nn.ReLU(inplace=True)\n",
        "        \n",
        "        self.fc1 = nn.Linear(in_features=128 * 8 * 8, out_features=256)\n",
        "        self.relu4 = nn.ReLU(inplace=True)\n",
        "        self.fc2 = nn.Linear(in_features=256, out_features=2)\n",
        "\n",
        "    def forward(self, x):\n",
        "        x = self.conv1(x)\n",
        "        x = self.relu1(x)\n",
        "        x = self.pool1(x)\n",
        "        \n",
        "        x = self.conv2(x)\n",
        "        x = self.relu2(x)\n",
        "        x = self.pool2(x)\n",
        "        \n",
        "        x = self.conv3(x)\n",
        "        x = self.relu3(x)\n",
        "        \n",
        "        x = x.view(-1, 128 * 8 * 8)\n",
        "        \n",
        "        x = self.fc1(x)\n",
        "        x = self.relu4(x)\n",
        "        x = self.fc2(x)\n",
        "        return x\n",
        "\n",
        "\n",
        "net = Net()\n",
        "if torch.cuda.is_available():\n",
        "    net.cuda()"
      ],
      "metadata": {
        "id": "xQ8LQRJxeXCS"
      },
      "execution_count": null,
      "outputs": []
    },
    {
      "cell_type": "code",
      "source": [
        "def calculate_loss_and_accuracy(model, dataloader, size_of_dataset, criterion):\n",
        "    \n",
        "    # Now set model to validation mode.\n",
        "    running_loss = 0\n",
        "    running_accuracy = 0\n",
        "    \n",
        "     # Processing the Test Loader\n",
        "    for (inputs, labels) in dataloader:\n",
        "        \n",
        "        # Load data to device.\n",
        "        inputs = inputs.to(device)\n",
        "        labels = labels.to(device)\n",
        "        outputs = model(inputs)\n",
        "        _ , preds = torch.max(outputs, 1)\n",
        "        \n",
        "        # Outputs\n",
        "        outputs = model(inputs)\n",
        "        _ , preds = torch.max(outputs, 1)\n",
        "        \n",
        "        # Loss and Backpropagation.\n",
        "        loss = criterion(outputs, labels)\n",
        "        \n",
        "        # Statistics\n",
        "        running_loss += loss.item()*inputs.size(0)\n",
        "        running_accuracy += torch.sum(preds == labels.data)\n",
        "        \n",
        "    epoch_loss = running_loss/size_of_dataset\n",
        "    epoch_accuracy = running_accuracy/size_of_dataset\n",
        "    \n",
        "    return epoch_loss, epoch_accuracy"
      ],
      "metadata": {
        "id": "4jwd02HPn1FJ"
      },
      "execution_count": null,
      "outputs": []
    },
    {
      "cell_type": "code",
      "source": [
        "import copy\n",
        "\n",
        "def train(model, criterion, optimizer, scheduler, num_of_epochs):\n",
        "    \n",
        "    best_model_wts = copy.deepcopy(model.state_dict())\n",
        "    best_acc = 0.0\n",
        "    #track_training_loss = []\n",
        "    #track_val_loss = []\n",
        "\n",
        "    for epoch in range(num_of_epochs):\n",
        "\n",
        "        print(f'\\nEpoch {epoch + 1}/{num_of_epochs}')\n",
        "        print('-'*30)\n",
        "\n",
        "        model.train() # Setting model to train.\n",
        "        running_loss = 0\n",
        "        running_accuracy = 0\n",
        "\n",
        "        # Processing the Train Loader\n",
        "        for (inputs, labels) in trainloader:\n",
        "            inputs = inputs.to(device)\n",
        "            labels = labels.to(device)\n",
        "\n",
        "            optimizer.zero_grad() # zero the parameter gradients\n",
        "\n",
        "            # Outputs\n",
        "            outputs = model(inputs)\n",
        "            _ , preds = torch.max(outputs, 1)\n",
        "\n",
        "            # Loss and Backpropagation.\n",
        "            loss = criterion(outputs, labels)\n",
        "            loss.backward()\n",
        "            optimizer.step()\n",
        "\n",
        "            # Statistics\n",
        "            running_loss += loss.item()*inputs.size(0)\n",
        "            running_accuracy += torch.sum(preds == labels.data)\n",
        "        \n",
        "        scheduler.step()\n",
        "        epoch_loss = running_loss/len(train_dataset)\n",
        "        epoch_accuracy = running_accuracy/len(train_dataset)\n",
        "        #track_training_loss.append(epoch_loss) # Loss Tracking\n",
        "        print(f'Training Loss: {epoch_loss:.4f} Training Acc.: {epoch_accuracy:.4f}')\n",
        "\n",
        "        # Now set model to validation mode.\n",
        "        model.eval()\n",
        "\n",
        "        val_loss, val_accuracy = calculate_loss_and_accuracy(model, val_loader, len(val_dataset), criterion)\n",
        "\n",
        "        if val_accuracy > best_acc:\n",
        "            print(\"Found better model...\")\n",
        "            print('Updating the model weights....\\n')\n",
        "            print(f'Val Loss: {val_loss:.4f} Val Acc.: {val_accuracy:.4f}\\n')\n",
        "\n",
        "            best_acc = val_accuracy\n",
        "            best_model_wts = copy.deepcopy(model.state_dict())\n",
        "     \n",
        "    model.load_state_dict(best_model_wts) # update model\n",
        "    \n",
        "    return  model"
      ],
      "metadata": {
        "id": "0BS4wfm0Hx2T"
      },
      "execution_count": null,
      "outputs": []
    },
    {
      "cell_type": "code",
      "source": [
        "criterion = nn.CrossEntropyLoss()\n",
        "optimizer = optim.SGD(net.parameters(), lr=0.001, momentum=0.9)\n",
        "\n",
        "# Decay LR by a factor of 0.1 every 7 epochs\n",
        "exp_lr_scheduler = lr_scheduler.StepLR(optimizer, step_size=7, gamma=0.1)\n",
        "\n",
        "NUM_OF_EPOCHS = 10\n",
        "best_model = train(model = net,\n",
        "                   criterion = criterion,\n",
        "                   optimizer = optimizer,\n",
        "                   scheduler = exp_lr_scheduler,\n",
        "                   num_of_epochs = NUM_OF_EPOCHS\n",
        "                  )\n",
        "filepath = \"/content/modelModule.pt\"\n",
        "torch.save(net.state_dict(), filepath)"
      ],
      "metadata": {
        "colab": {
          "base_uri": "https://localhost:8080/"
        },
        "id": "zMySJ9jtIOGg",
        "outputId": "1f9033ee-965a-46f0-8837-aa2be17b7f9e"
      },
      "execution_count": null,
      "outputs": [
        {
          "output_type": "stream",
          "name": "stdout",
          "text": [
            "\n",
            "Epoch 1/10\n",
            "------------------------------\n",
            "Training Loss: 0.6931 Training Acc.: 0.5060\n",
            "Found better model...\n",
            "Updating the model weights....\n",
            "\n",
            "Val Loss: 0.6931 Val Acc.: 0.4938\n",
            "\n",
            "\n",
            "Epoch 2/10\n",
            "------------------------------\n",
            "Training Loss: 0.6929 Training Acc.: 0.5119\n",
            "\n",
            "Epoch 3/10\n",
            "------------------------------\n",
            "Training Loss: 0.6927 Training Acc.: 0.5151\n",
            "Found better model...\n",
            "Updating the model weights....\n",
            "\n",
            "Val Loss: 0.6923 Val Acc.: 0.5063\n",
            "\n",
            "\n",
            "Epoch 4/10\n",
            "------------------------------\n",
            "Training Loss: 0.6923 Training Acc.: 0.5223\n",
            "\n",
            "Epoch 5/10\n",
            "------------------------------\n",
            "Training Loss: 0.6920 Training Acc.: 0.5370\n",
            "Found better model...\n",
            "Updating the model weights....\n",
            "\n",
            "Val Loss: 0.6914 Val Acc.: 0.5711\n",
            "\n",
            "\n",
            "Epoch 6/10\n",
            "------------------------------\n",
            "Training Loss: 0.6914 Training Acc.: 0.5416\n",
            "\n",
            "Epoch 7/10\n",
            "------------------------------\n",
            "Training Loss: 0.6904 Training Acc.: 0.5492\n",
            "Found better model...\n",
            "Updating the model weights....\n",
            "\n",
            "Val Loss: 0.6893 Val Acc.: 0.5926\n",
            "\n",
            "\n",
            "Epoch 8/10\n",
            "------------------------------\n",
            "Training Loss: 0.6895 Training Acc.: 0.5750\n",
            "\n",
            "Epoch 9/10\n",
            "------------------------------\n",
            "Training Loss: 0.6893 Training Acc.: 0.5691\n",
            "\n",
            "Epoch 10/10\n",
            "------------------------------\n",
            "Training Loss: 0.6892 Training Acc.: 0.5717\n"
          ]
        }
      ]
    },
    {
      "cell_type": "code",
      "source": [],
      "metadata": {
        "id": "2-yBjcngXdIf"
      },
      "execution_count": null,
      "outputs": []
    }
  ]
}