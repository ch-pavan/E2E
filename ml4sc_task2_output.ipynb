{
  "cells": [
    {
      "cell_type": "code",
      "execution_count": 1,
      "metadata": {
        "id": "BorWe488mi_g"
      },
      "outputs": [],
      "source": [
        "import pandas as pd\n",
        "import numpy as np\n",
        "import pyarrow.parquet as pq\n",
        "import pyarrow as pa"
      ]
    },
    {
      "cell_type": "code",
      "source": [
        "from google.colab import drive\n",
        "drive.mount('/content/drive')"
      ],
      "metadata": {
        "colab": {
          "base_uri": "https://localhost:8080/"
        },
        "id": "w713oAzEnA1y",
        "outputId": "ebb19b55-f220-4db2-e791-8c1a8be1be9b"
      },
      "execution_count": 2,
      "outputs": [
        {
          "output_type": "stream",
          "name": "stdout",
          "text": [
            "Mounted at /content/drive\n"
          ]
        }
      ]
    },
    {
      "cell_type": "code",
      "execution_count": 2,
      "metadata": {
        "id": "b9qEOttzmi_k"
      },
      "outputs": [],
      "source": [
        "parquet_file = pq.ParquetFile(\"/content/drive/MyDrive/QCDToGGQQ_IMGjet_RH1all_jet0_run0_n36272.test.snappy.parquet\")"
      ]
    },
    {
      "cell_type": "code",
      "execution_count": 4,
      "metadata": {
        "colab": {
          "base_uri": "https://localhost:8080/"
        },
        "id": "VeoZDcLimi_l",
        "outputId": "9f7e9e22-a950-4db5-a6bd-5f14c7520552"
      },
      "outputs": [
        {
          "output_type": "execute_result",
          "data": {
            "text/plain": [
              "<pyarrow._parquet.FileMetaData object at 0x7f1629c6f4a0>\n",
              "  created_by: parquet-cpp version 1.3.1-SNAPSHOT\n",
              "  num_columns: 4\n",
              "  num_rows: 36272\n",
              "  num_row_groups: 36272\n",
              "  format_version: 1.0\n",
              "  serialized_size: 14143781"
            ]
          },
          "metadata": {},
          "execution_count": 4
        }
      ],
      "source": [
        "parquet_file.metadata"
      ]
    },
    {
      "cell_type": "code",
      "execution_count": 5,
      "metadata": {
        "colab": {
          "base_uri": "https://localhost:8080/"
        },
        "id": "OzlpTKcwmi_n",
        "outputId": "74051bff-7af7-4706-e851-a57238b9a6e9"
      },
      "outputs": [
        {
          "output_type": "execute_result",
          "data": {
            "text/plain": [
              "<pyarrow._parquet.RowGroupMetaData object at 0x7f1671dae0e0>\n",
              "  num_columns: 4\n",
              "  num_rows: 1\n",
              "  total_byte_size: 4665"
            ]
          },
          "metadata": {},
          "execution_count": 5
        }
      ],
      "source": [
        "metadata = pq.read_metadata(\"/content/drive/MyDrive/QCDToGGQQ_IMGjet_RH1all_jet0_run0_n36272.test.snappy.parquet\")\n",
        "metadata.row_group(0)"
      ]
    },
    {
      "cell_type": "code",
      "execution_count": 6,
      "metadata": {
        "id": "tXzx2qvOmi_o",
        "colab": {
          "base_uri": "https://localhost:8080/"
        },
        "outputId": "c1681027-23b4-4c6b-89c5-f5b47ba3dd37"
      },
      "outputs": [
        {
          "output_type": "execute_result",
          "data": {
            "text/plain": [
              "pyarrow.Table\n",
              "X_jets: list<item: list<item: list<item: double>>>\n",
              "  child 0, item: list<item: list<item: double>>\n",
              "      child 0, item: list<item: double>\n",
              "          child 0, item: double\n",
              "pt: double\n",
              "m0: double\n",
              "y: double\n",
              "----\n",
              "X_jets: [[[[[0,0,0,0,0,...,0,0,0,0,0],[0,0,0,0,0,...,0,0,0,0,0],...,[0,0,0,0,0,...,0,0,0,0,0],[0,0,0,0,0,...,0,0,0,0,0]],[[0,0,0,0,0,...,0,0,0,0,0],[0,0,0,0,0,...,0,0,0,0,0],...,[0,0,0,0,0,...,0,0,0,0,0],[0,0,0,0,0,...,0,0,0,0,0]],[[0,0,0,0,0,...,0,0,0,0,0],[0,0,0,0,0,...,0,0,0,0,0],...,[0,0,0,0,0,...,0,0,0,0,0],[0,0,0,0,0,...,0,0,0,0,0]]]]]\n",
              "pt: [[112.41109466552734]]\n",
              "m0: [[21.098247528076172]]\n",
              "y: [[0]]"
            ]
          },
          "metadata": {},
          "execution_count": 6
        }
      ],
      "source": [
        "parquet_file.read_row_group(0)"
      ]
    },
    {
      "cell_type": "code",
      "execution_count": 3,
      "metadata": {
        "id": "os37bnJOmi_o"
      },
      "outputs": [],
      "source": [
        "file_1 = next(parquet_file.iter_batches(batch_size = 8000, columns=['X_jets', 'y'])) \n",
        "df = pa.Table.from_batches([file_1]).to_pandas()\n",
        "del file_1\n",
        "\n",
        "X_dataset = np.array(np.array(np.array(df['X_jets'].tolist()).tolist()).tolist())\n",
        "y_dataset = df['y'].to_numpy()\n",
        "\n",
        "del df"
      ]
    },
    {
      "cell_type": "code",
      "execution_count": 4,
      "metadata": {
        "id": "8uItxO7Dmi_o"
      },
      "outputs": [],
      "source": [
        "import tensorflow as tf\n",
        "from tensorflow.keras.optimizers import Adam\n",
        "from tensorflow.keras.layers import Dense, Flatten, Conv2D, MaxPool2D, Activation, GlobalAveragePooling2D, AveragePooling2D, Dropout\n",
        "from tensorflow.keras import Sequential\n",
        "from tensorflow.keras import layers\n",
        "from sklearn.model_selection import train_test_split\n",
        "from sklearn.metrics import roc_curve"
      ]
    },
    {
      "cell_type": "code",
      "execution_count": 5,
      "metadata": {
        "id": "HNNsHaSOmi_p"
      },
      "outputs": [],
      "source": [
        "X_train, X_test, y_train, y_test = train_test_split(X_dataset, y_dataset, test_size=0.2, random_state=42)\n",
        "X_train, X_val, y_train, y_val = train_test_split(X_train, y_train, test_size=0.1, random_state=35)"
      ]
    },
    {
      "cell_type": "code",
      "execution_count": 6,
      "metadata": {
        "id": "TFEiWqvTmi_p"
      },
      "outputs": [],
      "source": [
        "X_train = np.moveaxis(X_train, 1, -1)\n",
        "X_test = np.moveaxis(X_test, 1, -1)\n",
        "X_val = np.moveaxis(X_val, 1, -1)"
      ]
    },
    {
      "cell_type": "code",
      "execution_count": 7,
      "metadata": {
        "colab": {
          "base_uri": "https://localhost:8080/"
        },
        "id": "SsvWi8vgmi_q",
        "outputId": "6da8203c-48c4-45c7-b430-16541889dd74"
      },
      "outputs": [
        {
          "output_type": "stream",
          "name": "stdout",
          "text": [
            "Epoch 1/10\n",
            "180/180 [==============================] - 14s 45ms/step - loss: 0.6334 - accuracy: 0.6623 - val_loss: 0.6158 - val_accuracy: 0.6734\n",
            "Epoch 2/10\n",
            "180/180 [==============================] - 7s 41ms/step - loss: 0.5847 - accuracy: 0.7083 - val_loss: 0.5871 - val_accuracy: 0.6891\n",
            "Epoch 3/10\n",
            "180/180 [==============================] - 8s 42ms/step - loss: 0.5444 - accuracy: 0.7373 - val_loss: 0.5854 - val_accuracy: 0.6891\n",
            "Epoch 4/10\n",
            "180/180 [==============================] - 8s 42ms/step - loss: 0.4811 - accuracy: 0.7703 - val_loss: 0.6292 - val_accuracy: 0.7094\n",
            "Epoch 5/10\n",
            "180/180 [==============================] - 8s 42ms/step - loss: 0.3838 - accuracy: 0.8313 - val_loss: 0.7880 - val_accuracy: 0.6875\n",
            "Epoch 6/10\n",
            "180/180 [==============================] - 7s 42ms/step - loss: 0.2575 - accuracy: 0.8972 - val_loss: 0.8945 - val_accuracy: 0.6734\n",
            "Epoch 7/10\n",
            "180/180 [==============================] - 7s 42ms/step - loss: 0.2179 - accuracy: 0.9262 - val_loss: 1.2347 - val_accuracy: 0.6438\n",
            "Epoch 8/10\n",
            "180/180 [==============================] - 7s 41ms/step - loss: 0.1012 - accuracy: 0.9651 - val_loss: 1.6623 - val_accuracy: 0.6344\n",
            "Epoch 9/10\n",
            "180/180 [==============================] - 8s 46ms/step - loss: 0.0736 - accuracy: 0.9793 - val_loss: 1.6532 - val_accuracy: 0.6375\n",
            "Epoch 10/10\n",
            "180/180 [==============================] - 7s 41ms/step - loss: 0.0526 - accuracy: 0.9830 - val_loss: 1.8807 - val_accuracy: 0.6406\n"
          ]
        }
      ],
      "source": [
        "tf.random.set_seed(42)\n",
        "\n",
        "model = Sequential([\n",
        "  Conv2D(32, (3,3), activation='relu', input_shape=(125, 125, 3)),\n",
        "  Conv2D(32, (3,3), activation='relu'),\n",
        "  MaxPool2D((2, 2)),\n",
        "  Dropout(0.25),\n",
        "  Conv2D(64, (3,3), activation='relu'),\n",
        "  Conv2D(64, (3,3), activation='relu'),\n",
        "  MaxPool2D((2,2)),\n",
        "  Dropout(0.25),\n",
        "  Flatten(),\n",
        "  Dense(128, activation='relu'),\n",
        "  Dense(1, activation='sigmoid')\n",
        "])\n",
        "\n",
        "# Compile the model\n",
        "model.compile(loss=\"binary_crossentropy\",\n",
        "                optimizer=tf.keras.optimizers.Adam(),\n",
        "                metrics=[\"accuracy\"])\n",
        "\n",
        "# Fit the model\n",
        "history = model.fit(X_train, y_train, batch_size=32,\n",
        "                        epochs=10,\n",
        "                        validation_data=(X_val, y_val)\n",
        "                        )"
      ]
    },
    {
      "cell_type": "code",
      "execution_count": 8,
      "metadata": {
        "id": "gfVqmBxlmi_r"
      },
      "outputs": [],
      "source": [
        "import matplotlib.pyplot as plt\n",
        "def plot_loss_curves(history):\n",
        "  \"\"\"\n",
        "  Returns separate loss curves for training and validation metrics.\n",
        "  \"\"\" \n",
        "  loss = history.history['loss']\n",
        "  val_loss = history.history['val_loss']\n",
        "\n",
        "  accuracy = history.history['accuracy']\n",
        "  val_accuracy = history.history['val_accuracy']\n",
        "\n",
        "  epochs = range(len(history.history['loss']))\n",
        "\n",
        "  # Plot loss\n",
        "  plt.plot(epochs, loss, label='training_loss')\n",
        "  plt.plot(epochs, val_loss, label='val_loss')\n",
        "  plt.title('Loss')\n",
        "  plt.xlabel('Epochs')\n",
        "  plt.legend()\n",
        "\n",
        "  # Plot accuracy\n",
        "  plt.figure()\n",
        "  plt.plot(epochs, accuracy, label='training_accuracy')\n",
        "  plt.plot(epochs, val_accuracy, label='val_accuracy')\n",
        "  plt.title('Accuracy')\n",
        "  plt.xlabel('Epochs')\n",
        "  plt.legend();"
      ]
    },
    {
      "cell_type": "code",
      "source": [
        "plot_loss_curves(history)"
      ],
      "metadata": {
        "colab": {
          "base_uri": "https://localhost:8080/",
          "height": 573
        },
        "id": "aMhQnlaToRGS",
        "outputId": "439d9e75-761c-4aa6-a2e7-1d991275e81e"
      },
      "execution_count": 9,
      "outputs": [
        {
          "output_type": "display_data",
          "data": {
            "text/plain": [
              "<Figure size 432x288 with 1 Axes>"
            ],
            "image/png": "[encoded data removed]"
          },
          "metadata": {
            "needs_background": "light"
          }
        },
        {
          "output_type": "display_data",
          "data": {
            "text/plain": [
              "<Figure size 432x288 with 1 Axes>"
            ],
            "image/png": "[encoded data removed]"
          },
          "metadata": {
            "needs_background": "light"
          }
        }
      ]
    },
    {
      "cell_type": "code",
      "source": [
        "preds = model.evaluate(X_test, y_test)\n",
        "print (\"Loss = \" + str(preds[0]))\n",
        "print (\"Test Accuracy = \" + str(preds[1]))"
      ],
      "metadata": {
        "colab": {
          "base_uri": "https://localhost:8080/"
        },
        "id": "DJdLR69YoTyP",
        "outputId": "f90d835c-8707-4826-988a-e76a58619a02"
      },
      "execution_count": 10,
      "outputs": [
        {
          "output_type": "stream",
          "name": "stdout",
          "text": [
            "50/50 [==============================] - 1s 12ms/step - loss: 1.8943 - accuracy: 0.6469\n",
            "Loss = 1.8942736387252808\n",
            "Test Accuracy = 0.6468750238418579\n"
          ]
        }
      ]
    },
    {
      "cell_type": "code",
      "source": [
        "y_pred = model.predict(X_test)\n",
        "from sklearn.metrics import roc_auc_score\n",
        "score = roc_auc_score(y_test, y_pred)\n",
        "print(f\"ROC AUC: {score:.4f}\")"
      ],
      "metadata": {
        "colab": {
          "base_uri": "https://localhost:8080/"
        },
        "id": "c0lDwXUgoXbN",
        "outputId": "60959a5c-de8f-4d85-cde6-8aad7220f39c"
      },
      "execution_count": 11,
      "outputs": [
        {
          "output_type": "stream",
          "name": "stdout",
          "text": [
            "50/50 [==============================] - 1s 9ms/step\n",
            "ROC AUC: 0.6993\n"
          ]
        }
      ]
    },
    {
      "cell_type": "code",
      "source": [],
      "metadata": {
        "id": "ZXKWVDDypowP"
      },
      "execution_count": null,
      "outputs": []
    }
  ],
  "metadata": {
    "kernelspec": {
      "display_name": "Python 3",
      "language": "python",
      "name": "python3"
    },
    "language_info": {
      "codemirror_mode": {
        "name": "ipython",
        "version": 3
      },
      "file_extension": ".py",
      "mimetype": "text/x-python",
      "name": "python",
      "nbconvert_exporter": "python",
      "pygments_lexer": "ipython3",
      "version": "3.10.7"
    },
    "orig_nbformat": 4,
    "vscode": {
      "interpreter": {
        "hash": "8a151962f28880851d9c9b935ce735905a0cdca4ab2bee7c06461b8af94596b7"
      }
    },
    "colab": {
      "provenance": []
    },
    "accelerator": "GPU",
    "gpuClass": "standard"
  },
  "nbformat": 4,
  "nbformat_minor": 0
}