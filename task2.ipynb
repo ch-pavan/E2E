{
  "cells": [
    {
      "cell_type": "code",
      "execution_count": 1,
      "metadata": {
        "id": "cO40gmmhjwJp"
      },
      "outputs": [],
      "source": [
        "import numpy as np\n",
        "import pyarrow.parquet as pq\n",
        "import os\n",
        "import time as time\n",
        "import PIL.Image as imm\n",
        "import cv2\n",
        "path = \"/content/images/\""
      ]
    },
    {
      "cell_type": "code",
      "execution_count": null,
      "metadata": {},
      "outputs": [],
      "source": [
        "count_label_1 = 0\n",
        "count_label_2 =  0\n",
        "def saver(im,meta):\n",
        "    for i in range(meta.shape[0]):\n",
        "        img = im[i,:,:,:]\n",
        "        img = img.T\n",
        "        img[:,:,0] = ( img[:,:,0] - img[:,:,0].min() ) / ( img[:,:,0].max()-img[:,:,0].min() )\n",
        "        img[:,:,1] = ( img[:,:,1] - img[:,:,1].min() ) / ( img[:,:,1].max()-img[:,:,1].min() )\n",
        "        img[:,:,2] = ( img[:,:,2] - img[:,:,2].min() ) / ( img[:,:,2].max()-img[:,:,2].min() )\n",
        "        img = img*255\n",
        "        img = img.astype(np.uint8)\n",
        "        #lmm = imm.fromarray(img)\n",
        "        if(meta[i] == 0):\n",
        "            impath = path+\"1/\"+str(count_label_1)+\".png\"\n",
        "            count_label_1 = count_label_1 + 1\n",
        "        if(meta[i] == 1):\n",
        "            impath = path+\"0/\"+str(count_label_2)+\".png\"\n",
        "            count_label_2 = count_label_2 + 1\n",
        "        cv2.imwrite(impath , img)"
      ]
    },
    {
      "cell_type": "code",
      "execution_count": null,
      "metadata": {},
      "outputs": [],
      "source": [
        "def array(batch):\n",
        "    p = batch.to_pandas()\n",
        "    im = np.array(np.array(np.array(p.iloc[:,0].tolist()).tolist()).tolist())\n",
        "    meta = np.array(p.iloc[:,3])\n",
        "    saver(im,meta)"
      ]
    },
    {
      "cell_type": "code",
      "execution_count": 2,
      "metadata": {
        "id": "_StrmkmbjwRK"
      },
      "outputs": [],
      "source": [
        "def images(pf):\n",
        "    batch = pf.iter_batches(batch_size=4096)\n",
        "    while(True):\n",
        "        try:\n",
        "            batch = next(batch)\n",
        "            array(batch)\n",
        "        except StopIteration:\n",
        "            print(\"Done\")\n",
        "            break"
      ]
    },
    {
      "cell_type": "code",
      "execution_count": 9,
      "metadata": {
        "colab": {
          "base_uri": "https://localhost:8080/"
        },
        "id": "Mx10bUPLjwZX",
        "outputId": "81f7b832-7a2b-4131-bdcd-2f870b7a675f"
      },
      "outputs": [
        {
          "name": "stdout",
          "output_type": "stream",
          "text": [
            "4096\n",
            "4096\n",
            "4096\n",
            "4096\n",
            "4096\n",
            "4096\n"
          ]
        },
        {
          "name": "stderr",
          "output_type": "stream",
          "text": [
            "<ipython-input-3-2b033bb1886c>:11: RuntimeWarning: invalid value encountered in true_divide\n",
            "  img[:,:,2] = ( img[:,:,2] - img[:,:,2].min() ) / ( img[:,:,2].max()-img[:,:,2].min() )\n"
          ]
        },
        {
          "name": "stdout",
          "output_type": "stream",
          "text": [
            "4096\n",
            "4096\n"
          ]
        },
        {
          "name": "stderr",
          "output_type": "stream",
          "text": [
            "<ipython-input-3-2b033bb1886c>:11: RuntimeWarning: invalid value encountered in true_divide\n",
            "  img[:,:,2] = ( img[:,:,2] - img[:,:,2].min() ) / ( img[:,:,2].max()-img[:,:,2].min() )\n"
          ]
        },
        {
          "name": "stdout",
          "output_type": "stream",
          "text": [
            "3504\n"
          ]
        },
        {
          "name": "stderr",
          "output_type": "stream",
          "text": [
            "<ipython-input-3-2b033bb1886c>:11: RuntimeWarning: invalid value encountered in true_divide\n",
            "  img[:,:,2] = ( img[:,:,2] - img[:,:,2].min() ) / ( img[:,:,2].max()-img[:,:,2].min() )\n"
          ]
        },
        {
          "name": "stdout",
          "output_type": "stream",
          "text": [
            "Done\n",
            "4096\n"
          ]
        },
        {
          "name": "stderr",
          "output_type": "stream",
          "text": [
            "<ipython-input-3-2b033bb1886c>:11: RuntimeWarning: invalid value encountered in true_divide\n",
            "  img[:,:,2] = ( img[:,:,2] - img[:,:,2].min() ) / ( img[:,:,2].max()-img[:,:,2].min() )\n"
          ]
        },
        {
          "name": "stdout",
          "output_type": "stream",
          "text": [
            "4096\n"
          ]
        },
        {
          "name": "stderr",
          "output_type": "stream",
          "text": [
            "<ipython-input-3-2b033bb1886c>:11: RuntimeWarning: invalid value encountered in true_divide\n",
            "  img[:,:,2] = ( img[:,:,2] - img[:,:,2].min() ) / ( img[:,:,2].max()-img[:,:,2].min() )\n"
          ]
        },
        {
          "name": "stdout",
          "output_type": "stream",
          "text": [
            "4096\n"
          ]
        },
        {
          "name": "stderr",
          "output_type": "stream",
          "text": [
            "<ipython-input-3-2b033bb1886c>:11: RuntimeWarning: invalid value encountered in true_divide\n",
            "  img[:,:,2] = ( img[:,:,2] - img[:,:,2].min() ) / ( img[:,:,2].max()-img[:,:,2].min() )\n"
          ]
        },
        {
          "name": "stdout",
          "output_type": "stream",
          "text": [
            "4096\n"
          ]
        },
        {
          "name": "stderr",
          "output_type": "stream",
          "text": [
            "<ipython-input-3-2b033bb1886c>:11: RuntimeWarning: invalid value encountered in true_divide\n",
            "  img[:,:,2] = ( img[:,:,2] - img[:,:,2].min() ) / ( img[:,:,2].max()-img[:,:,2].min() )\n"
          ]
        },
        {
          "name": "stdout",
          "output_type": "stream",
          "text": [
            "4096\n"
          ]
        },
        {
          "name": "stderr",
          "output_type": "stream",
          "text": [
            "<ipython-input-3-2b033bb1886c>:11: RuntimeWarning: invalid value encountered in true_divide\n",
            "  img[:,:,2] = ( img[:,:,2] - img[:,:,2].min() ) / ( img[:,:,2].max()-img[:,:,2].min() )\n"
          ]
        },
        {
          "name": "stdout",
          "output_type": "stream",
          "text": [
            "4096\n"
          ]
        },
        {
          "name": "stderr",
          "output_type": "stream",
          "text": [
            "<ipython-input-3-2b033bb1886c>:11: RuntimeWarning: invalid value encountered in true_divide\n",
            "  img[:,:,2] = ( img[:,:,2] - img[:,:,2].min() ) / ( img[:,:,2].max()-img[:,:,2].min() )\n"
          ]
        },
        {
          "name": "stdout",
          "output_type": "stream",
          "text": [
            "4096\n",
            "4096\n",
            "4096\n"
          ]
        },
        {
          "name": "stderr",
          "output_type": "stream",
          "text": [
            "<ipython-input-3-2b033bb1886c>:11: RuntimeWarning: invalid value encountered in true_divide\n",
            "  img[:,:,2] = ( img[:,:,2] - img[:,:,2].min() ) / ( img[:,:,2].max()-img[:,:,2].min() )\n"
          ]
        },
        {
          "name": "stdout",
          "output_type": "stream",
          "text": [
            "4096\n"
          ]
        },
        {
          "name": "stderr",
          "output_type": "stream",
          "text": [
            "<ipython-input-3-2b033bb1886c>:11: RuntimeWarning: invalid value encountered in true_divide\n",
            "  img[:,:,2] = ( img[:,:,2] - img[:,:,2].min() ) / ( img[:,:,2].max()-img[:,:,2].min() )\n"
          ]
        },
        {
          "name": "stdout",
          "output_type": "stream",
          "text": [
            "4096\n"
          ]
        },
        {
          "name": "stderr",
          "output_type": "stream",
          "text": [
            "<ipython-input-3-2b033bb1886c>:11: RuntimeWarning: invalid value encountered in true_divide\n",
            "  img[:,:,2] = ( img[:,:,2] - img[:,:,2].min() ) / ( img[:,:,2].max()-img[:,:,2].min() )\n"
          ]
        },
        {
          "name": "stdout",
          "output_type": "stream",
          "text": [
            "2484\n",
            "Done\n",
            "4096\n",
            "4096\n"
          ]
        },
        {
          "name": "stderr",
          "output_type": "stream",
          "text": [
            "<ipython-input-3-2b033bb1886c>:11: RuntimeWarning: invalid value encountered in true_divide\n",
            "  img[:,:,2] = ( img[:,:,2] - img[:,:,2].min() ) / ( img[:,:,2].max()-img[:,:,2].min() )\n"
          ]
        },
        {
          "name": "stdout",
          "output_type": "stream",
          "text": [
            "4096\n"
          ]
        },
        {
          "name": "stderr",
          "output_type": "stream",
          "text": [
            "<ipython-input-3-2b033bb1886c>:11: RuntimeWarning: invalid value encountered in true_divide\n",
            "  img[:,:,2] = ( img[:,:,2] - img[:,:,2].min() ) / ( img[:,:,2].max()-img[:,:,2].min() )\n"
          ]
        },
        {
          "name": "stdout",
          "output_type": "stream",
          "text": [
            "4096\n"
          ]
        },
        {
          "name": "stderr",
          "output_type": "stream",
          "text": [
            "<ipython-input-3-2b033bb1886c>:11: RuntimeWarning: invalid value encountered in true_divide\n",
            "  img[:,:,2] = ( img[:,:,2] - img[:,:,2].min() ) / ( img[:,:,2].max()-img[:,:,2].min() )\n"
          ]
        },
        {
          "name": "stdout",
          "output_type": "stream",
          "text": [
            "4096\n"
          ]
        },
        {
          "name": "stderr",
          "output_type": "stream",
          "text": [
            "<ipython-input-3-2b033bb1886c>:11: RuntimeWarning: invalid value encountered in true_divide\n",
            "  img[:,:,2] = ( img[:,:,2] - img[:,:,2].min() ) / ( img[:,:,2].max()-img[:,:,2].min() )\n"
          ]
        },
        {
          "name": "stdout",
          "output_type": "stream",
          "text": [
            "4096\n"
          ]
        },
        {
          "name": "stderr",
          "output_type": "stream",
          "text": [
            "<ipython-input-3-2b033bb1886c>:11: RuntimeWarning: invalid value encountered in true_divide\n",
            "  img[:,:,2] = ( img[:,:,2] - img[:,:,2].min() ) / ( img[:,:,2].max()-img[:,:,2].min() )\n"
          ]
        },
        {
          "name": "stdout",
          "output_type": "stream",
          "text": [
            "4096\n",
            "4096\n"
          ]
        },
        {
          "name": "stderr",
          "output_type": "stream",
          "text": [
            "<ipython-input-3-2b033bb1886c>:11: RuntimeWarning: invalid value encountered in true_divide\n",
            "  img[:,:,2] = ( img[:,:,2] - img[:,:,2].min() ) / ( img[:,:,2].max()-img[:,:,2].min() )\n"
          ]
        },
        {
          "name": "stdout",
          "output_type": "stream",
          "text": [
            "4096\n",
            "4096\n"
          ]
        },
        {
          "name": "stderr",
          "output_type": "stream",
          "text": [
            "<ipython-input-3-2b033bb1886c>:11: RuntimeWarning: invalid value encountered in true_divide\n",
            "  img[:,:,2] = ( img[:,:,2] - img[:,:,2].min() ) / ( img[:,:,2].max()-img[:,:,2].min() )\n"
          ]
        },
        {
          "name": "stdout",
          "output_type": "stream",
          "text": [
            "4096\n"
          ]
        },
        {
          "name": "stderr",
          "output_type": "stream",
          "text": [
            "<ipython-input-3-2b033bb1886c>:11: RuntimeWarning: invalid value encountered in true_divide\n",
            "  img[:,:,2] = ( img[:,:,2] - img[:,:,2].min() ) / ( img[:,:,2].max()-img[:,:,2].min() )\n"
          ]
        },
        {
          "name": "stdout",
          "output_type": "stream",
          "text": [
            "4096\n",
            "4096\n",
            "2246\n",
            "Done\n"
          ]
        }
      ],
      "source": [
        "images(pq.ParquetFile(\"/content/drive/MyDrive/QCDToGGQQ_IMGjet_RH1all_jet0_run0_n36272.test.snappy.parquet\"))\n",
        "images(pq.ParquetFile(\"/content/drive/MyDrive/QCDToGGQQ_IMGjet_RH1all_jet0_run1_n47540.test.snappy.parquet\"))\n",
        "images(pq.ParquetFile(\"/content/drive/MyDrive/QCDToGGQQ_IMGjet_RH1all_jet0_run2_n55494.test.snappy.parquet\"))"
      ]
    },
    {
      "cell_type": "code",
      "execution_count": 6,
      "metadata": {
        "colab": {
          "base_uri": "https://localhost:8080/"
        },
        "id": "w713oAzEnA1y",
        "outputId": "ca5ec21c-81a9-4bd2-b81d-3590d0f259c7"
      },
      "outputs": [
        {
          "name": "stdout",
          "output_type": "stream",
          "text": [
            "Mounted at /content/drive\n"
          ]
        }
      ],
      "source": [
        "from google.colab import drive\n",
        "drive.mount('/content/drive')"
      ]
    },
    {
      "cell_type": "code",
      "execution_count": 1,
      "metadata": {
        "id": "8uItxO7Dmi_o"
      },
      "outputs": [],
      "source": [
        "import tensorflow as tf\n",
        "import matplotlib.pyplot as plt\n",
        "from tensorflow.keras.optimizers import Adam\n",
        "from tensorflow.keras.layers import Dense, Flatten, Conv2D, MaxPool2D, Activation, GlobalAveragePooling2D, AveragePooling2D, Dropout\n",
        "from tensorflow.keras import Sequential\n",
        "from tensorflow.keras import layers\n",
        "from sklearn.model_selection import train_test_split\n",
        "from tensorflow.keras.preprocessing.image import ImageDataGenerator \n",
        "from keras.utils.vis_utils import plot_model"
      ]
    },
    {
      "cell_type": "code",
      "execution_count": 2,
      "metadata": {
        "colab": {
          "base_uri": "https://localhost:8080/"
        },
        "id": "782hKTB-26bD",
        "outputId": "1d019739-cbf4-438f-fa33-8764293d5b13"
      },
      "outputs": [
        {
          "data": {
            "text/plain": [
              "['0', '1']"
            ]
          },
          "execution_count": 2,
          "metadata": {},
          "output_type": "execute_result"
        }
      ],
      "source": [
        "import os\n",
        "import shutil\n",
        "\n",
        "os.listdir(\"/content/images\")"
      ]
    },
    {
      "cell_type": "code",
      "execution_count": 13,
      "metadata": {
        "colab": {
          "base_uri": "https://localhost:8080/"
        },
        "id": "GA_5Qozpk7fT",
        "outputId": "64736bd4-db35-4048-9a2a-dd1adcf615a9"
      },
      "outputs": [
        {
          "name": "stdout",
          "output_type": "stream",
          "text": [
            "Found 111446 images belonging to 2 classes.\n",
            "Found 27860 images belonging to 2 classes.\n"
          ]
        }
      ],
      "source": [
        "train_datagen= ImageDataGenerator(\n",
        "    rescale = 1./255,\n",
        "    validation_split = 0.2,\n",
        ")\n",
        "train_generator = train_datagen.flow_from_directory(\n",
        "        \"/content/images\",\n",
        "        target_size= (125,125),\n",
        "        color_mode='rgb',\n",
        "        batch_size=32,\n",
        "        class_mode='binary',\n",
        "        subset='training',\n",
        "        shuffle = True\n",
        ")\n",
        "\n",
        "validation_generator = train_datagen.flow_from_directory(\n",
        "        \"/content/images\",\n",
        "        target_size= (125,125),\n",
        "        color_mode='rgb',\n",
        "        batch_size=32,\n",
        "        class_mode='binary',\n",
        "        subset='validation',\n",
        "        shuffle = False\n",
        "\n",
        ")"
      ]
    },
    {
      "cell_type": "code",
      "execution_count": 4,
      "metadata": {
        "colab": {
          "base_uri": "https://localhost:8080/"
        },
        "id": "IXuJhUW0IA0b",
        "outputId": "8041f7ee-6311-4331-bb46-ad1660a2e47a"
      },
      "outputs": [
        {
          "name": "stdout",
          "output_type": "stream",
          "text": [
            "Epoch 1/10\n",
            "3483/3483 [==============================] - 177s 49ms/step - loss: 0.5988 - accuracy: 0.6836 - val_loss: 0.5754 - val_accuracy: 0.7059\n",
            "Epoch 2/10\n",
            "3483/3483 [==============================] - 170s 49ms/step - loss: 0.5745 - accuracy: 0.7076 - val_loss: 0.5696 - val_accuracy: 0.7132\n",
            "Epoch 3/10\n",
            "3483/3483 [==============================] - 169s 48ms/step - loss: 0.5652 - accuracy: 0.7161 - val_loss: 0.5684 - val_accuracy: 0.7163\n",
            "Epoch 4/10\n",
            "3483/3483 [==============================] - 188s 54ms/step - loss: 0.5547 - accuracy: 0.7239 - val_loss: 0.5672 - val_accuracy: 0.7169\n",
            "Epoch 5/10\n",
            "3483/3483 [==============================] - 171s 49ms/step - loss: 0.5366 - accuracy: 0.7345 - val_loss: 0.5832 - val_accuracy: 0.7021\n",
            "Epoch 6/10\n",
            "3483/3483 [==============================] - 168s 48ms/step - loss: 0.5082 - accuracy: 0.7532 - val_loss: 0.5950 - val_accuracy: 0.7043\n",
            "Epoch 7/10\n",
            "3483/3483 [==============================] - 166s 48ms/step - loss: 0.4685 - accuracy: 0.7779 - val_loss: 0.6375 - val_accuracy: 0.6985\n",
            "Epoch 8/10\n",
            "3483/3483 [==============================] - 167s 48ms/step - loss: 0.4246 - accuracy: 0.8036 - val_loss: 0.6717 - val_accuracy: 0.6892\n",
            "Epoch 9/10\n",
            "3483/3483 [==============================] - 169s 48ms/step - loss: 0.3780 - accuracy: 0.8284 - val_loss: 0.7628 - val_accuracy: 0.6808\n",
            "Epoch 10/10\n",
            "3483/3483 [==============================] - 167s 48ms/step - loss: 0.3381 - accuracy: 0.8502 - val_loss: 0.8846 - val_accuracy: 0.6723\n"
          ]
        }
      ],
      "source": [
        "tf.random.set_seed(42)\n",
        "\n",
        "model = Sequential([\n",
        "  Conv2D(32, (3,3), activation='relu', input_shape=(125, 125, 3)),\n",
        "  Conv2D(32, (3,3), activation='relu'),\n",
        "  MaxPool2D((2, 2)),\n",
        "  Dropout(0.25),\n",
        "  Conv2D(64, (3,3), activation='relu'),\n",
        "  Conv2D(64, (3,3), activation='relu'),\n",
        "  MaxPool2D((2,2)),\n",
        "  Dropout(0.25),\n",
        "  Flatten(),\n",
        "  Dense(128, activation='relu'),\n",
        "  Dense(1, activation='sigmoid')\n",
        "])\n",
        "\n",
        "# Compile the model\n",
        "model.compile(loss=\"binary_crossentropy\",\n",
        "                optimizer=tf.keras.optimizers.Adam(),\n",
        "                metrics=[\"accuracy\"])\n",
        "\n",
        "# Fit the model\n",
        "history = model.fit(train_generator,\n",
        "    validation_data = validation_generator, batch_size=32,\n",
        "                        epochs=10\n",
        "                        )"
      ]
    },
    {
      "cell_type": "code",
      "execution_count": 5,
      "metadata": {
        "id": "gfVqmBxlmi_r"
      },
      "outputs": [],
      "source": [
        "import matplotlib.pyplot as plt\n",
        "def plot_loss_curves(history):\n",
        "  \"\"\"\n",
        "  Returns separate loss curves for training and validation metrics.\n",
        "  \"\"\" \n",
        "  loss = history.history['loss']\n",
        "  val_loss = history.history['val_loss']\n",
        "\n",
        "  accuracy = history.history['accuracy']\n",
        "  val_accuracy = history.history['val_accuracy']\n",
        "\n",
        "  epochs = range(len(history.history['loss']))\n",
        "\n",
        "  # Plot loss\n",
        "  plt.plot(epochs, loss, label='training_loss')\n",
        "  plt.plot(epochs, val_loss, label='val_loss')\n",
        "  plt.title('Loss')\n",
        "  plt.xlabel('Epochs')\n",
        "  plt.legend()\n",
        "\n",
        "  # Plot accuracy\n",
        "  plt.figure()\n",
        "  plt.plot(epochs, accuracy, label='training_accuracy')\n",
        "  plt.plot(epochs, val_accuracy, label='val_accuracy')\n",
        "  plt.title('Accuracy')\n",
        "  plt.xlabel('Epochs')\n",
        "  plt.legend();"
      ]
    },
    {
      "cell_type": "code",
      "execution_count": 6,
      "metadata": {
        "colab": {
          "base_uri": "https://localhost:8080/",
          "height": 927
        },
        "id": "aMhQnlaToRGS",
        "outputId": "8607221a-c11c-4b0b-e8e6-6dcbda7c8a42"
      },
      "outputs": [
        {
          "data": {
            "image/png": "[encoded data removed]",
            "text/plain": [
              "<Figure size 640x480 with 1 Axes>"
            ]
          },
          "metadata": {},
          "output_type": "display_data"
        },
        {
          "data": {
            "image/png": "[encoded data removed]",
            "text/plain": [
              "<Figure size 640x480 with 1 Axes>"
            ]
          },
          "metadata": {},
          "output_type": "display_data"
        }
      ],
      "source": [
        "plot_loss_curves(history)"
      ]
    },
    {
      "cell_type": "code",
      "execution_count": 14,
      "metadata": {
        "colab": {
          "base_uri": "https://localhost:8080/"
        },
        "id": "1OuTQpNo85XF",
        "outputId": "9bc9fbf1-42aa-4394-f52d-da6adfda2a55"
      },
      "outputs": [
        {
          "name": "stdout",
          "output_type": "stream",
          "text": [
            "871/871 [==============================] - 27s 31ms/step\n"
          ]
        }
      ],
      "source": [
        "predictions = model.predict(validation_generator)"
      ]
    },
    {
      "cell_type": "code",
      "execution_count": 15,
      "metadata": {
        "colab": {
          "base_uri": "https://localhost:8080/"
        },
        "id": "AZ-hYMH6RI8L",
        "outputId": "58d57f06-7a00-4025-c449-6973acf3b102"
      },
      "outputs": [
        {
          "name": "stdout",
          "output_type": "stream",
          "text": [
            "871/871 [==============================] - 24s 27ms/step - loss: 0.8846 - accuracy: 0.6723\n",
            "Loss = 0.884570300579071\n",
            "Test Accuracy = 0.6723259091377258\n"
          ]
        }
      ],
      "source": [
        "preds = model.evaluate(validation_generator)\n",
        "print (\"Loss = \" + str(preds[0]))\n",
        "print (\"Test Accuracy = \" + str(preds[1]))"
      ]
    },
    {
      "cell_type": "code",
      "execution_count": 16,
      "metadata": {
        "colab": {
          "base_uri": "https://localhost:8080/"
        },
        "id": "tEhxPg3Q88Zz",
        "outputId": "d857b010-e986-4496-f668-20a29b239b2c"
      },
      "outputs": [
        {
          "name": "stdout",
          "output_type": "stream",
          "text": [
            "ROC AUC: 0.7201\n"
          ]
        }
      ],
      "source": [
        "from sklearn.metrics import roc_auc_score\n",
        "auc_roc = roc_auc_score(validation_generator.classes, predictions)\n",
        "print(f\"ROC AUC: {auc_roc:.4f}\")"
      ]
    }
  ],
  "metadata": {
    "accelerator": "GPU",
    "colab": {
      "provenance": []
    },
    "gpuClass": "standard",
    "kernelspec": {
      "display_name": "Python 3",
      "language": "python",
      "name": "python3"
    },
    "language_info": {
      "codemirror_mode": {
        "name": "ipython",
        "version": 3
      },
      "file_extension": ".py",
      "mimetype": "text/x-python",
      "name": "python",
      "nbconvert_exporter": "python",
      "pygments_lexer": "ipython3",
      "version": "3.10.7"
    },
    "orig_nbformat": 4,
    "vscode": {
      "interpreter": {
        "hash": "8a151962f28880851d9c9b935ce735905a0cdca4ab2bee7c06461b8af94596b7"
      }
    }
  },
  "nbformat": 4,
  "nbformat_minor": 0
}
