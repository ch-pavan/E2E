{
  "nbformat": 4,
  "nbformat_minor": 0,
  "metadata": {
    "colab": {
      "provenance": []
    },
    "kernelspec": {
      "name": "python3",
      "display_name": "Python 3"
    },
    "language_info": {
      "name": "python"
    },
    "accelerator": "GPU",
    "gpuClass": "standard"
  },
  "cells": [
    {
      "cell_type": "code",
      "execution_count": 1,
      "metadata": {
        "id": "rF2oKDO-b4Wh"
      },
      "outputs": [],
      "source": [
        "import requests\n",
        "import io\n",
        "url='https://cernbox.cern.ch/remote.php/dav/public-files/FbXw3V4XNyYB3oA/SingleElectronPt50_IMGCROPS_n249k_RHv1.hdf5'\n",
        "with requests.Session() as session:\n",
        "    r = session.get(url, stream=True)\n",
        "    r.raise_for_status()\n",
        "    with open('SingleElectronPt50_IMGCROPS_n249k_RHv1.hdf5', 'wb') as hd5:\n",
        "        for chunk in r.iter_content(chunk_size=io.DEFAULT_BUFFER_SIZE):\n",
        "            hd5.write(chunk)"
      ]
    },
    {
      "cell_type": "code",
      "source": [
        "url='https://cernbox.cern.ch/remote.php/dav/public-files/AtBT8y4MiQYFcgc/SinglePhotonPt50_IMGCROPS_n249k_RHv1.hdf5'\n",
        "with requests.Session() as session:\n",
        "    r = session.get(url, stream=True)\n",
        "    r.raise_for_status()\n",
        "    with open('SinglePhotonPt50_IMGCROPS_n249k_RHv1.hdf5', 'wb') as hd5:\n",
        "        for chunk in r.iter_content(chunk_size=io.DEFAULT_BUFFER_SIZE):\n",
        "            hd5.write(chunk)"
      ],
      "metadata": {
        "id": "W5P2C12sjEYF"
      },
      "execution_count": 2,
      "outputs": []
    },
    {
      "cell_type": "code",
      "source": [
        "import h5py\n",
        "import numpy as np\n",
        "import pandas as pd\n",
        "import matplotlib.pyplot as plt"
      ],
      "metadata": {
        "id": "TC26p-BcfwFA"
      },
      "execution_count": 1,
      "outputs": []
    },
    {
      "cell_type": "code",
      "source": [
        "data_electron = h5py.File('/content/SingleElectronPt50_IMGCROPS_n249k_RHv1.hdf5')\n",
        "data_photon = h5py.File('/content/SinglePhotonPt50_IMGCROPS_n249k_RHv1.hdf5')"
      ],
      "metadata": {
        "id": "HIutkdStdvkR"
      },
      "execution_count": 2,
      "outputs": []
    },
    {
      "cell_type": "code",
      "source": [
        "data_electron['/y'].shape"
      ],
      "metadata": {
        "colab": {
          "base_uri": "https://localhost:8080/"
        },
        "id": "ut6rjNcmpY5h",
        "outputId": "99e99b57-ddb7-4e40-84c5-3c7da2d04c9b"
      },
      "execution_count": 5,
      "outputs": [
        {
          "output_type": "execute_result",
          "data": {
            "text/plain": [
              "(249000,)"
            ]
          },
          "metadata": {},
          "execution_count": 5
        }
      ]
    },
    {
      "cell_type": "code",
      "source": [
        "datasets = [data_electron, data_photon]\n",
        "X = np.concatenate([data['/X'][:100000] for data in datasets])\n",
        "y = np.concatenate([data['/y'][:100000] for data in datasets])"
      ],
      "metadata": {
        "id": "90pRjlKLgNYI"
      },
      "execution_count": 3,
      "outputs": []
    },
    {
      "cell_type": "code",
      "source": [
        "import tensorflow as tf\n",
        "from tensorflow.keras.optimizers import Adam\n",
        "from tensorflow.keras.layers import Dense, Flatten, Conv2D, MaxPool2D, Activation\n",
        "from tensorflow.keras import Sequential\n",
        "from sklearn.model_selection import train_test_split\n",
        "from sklearn.metrics import roc_curve"
      ],
      "metadata": {
        "id": "y5NUI059j-u-"
      },
      "execution_count": 4,
      "outputs": []
    },
    {
      "cell_type": "code",
      "source": [
        "X_train, X_test, y_train, y_test = train_test_split(X, y, test_size=0.2, random_state=42)\n",
        "X_train, X_val, y_train, y_val = train_test_split(X_train, y_train, test_size=0.1, random_state=35)\n"
      ],
      "metadata": {
        "id": "2RDvgulokYQv"
      },
      "execution_count": 5,
      "outputs": []
    },
    {
      "cell_type": "code",
      "source": [
        "print(X_train.shape)\n",
        "print(X_val.shape)\n",
        "print(X_test.shape)\n",
        "print(y_train.shape)"
      ],
      "metadata": {
        "colab": {
          "base_uri": "https://localhost:8080/"
        },
        "id": "9CFa4t08k-Zh",
        "outputId": "6c5ca8dc-eec2-4d67-b80d-40b9376994fb"
      },
      "execution_count": 6,
      "outputs": [
        {
          "output_type": "stream",
          "name": "stdout",
          "text": [
            "(144000, 32, 32, 2)\n",
            "(16000, 32, 32, 2)\n",
            "(40000, 32, 32, 2)\n",
            "(144000,)\n"
          ]
        }
      ]
    },
    {
      "cell_type": "code",
      "source": [
        "plt.figure(1)\n",
        "plt.subplot(221)\n",
        "plt.imshow(X_train[10,:,:,0])\n",
        "\n",
        "plt.subplot(222)\n",
        "plt.imshow(X_train[10,:,:,1])\n"
      ],
      "metadata": {
        "colab": {
          "base_uri": "https://localhost:8080/",
          "height": 166
        },
        "id": "7rKBIzMiqHBT",
        "outputId": "d3ff0519-df65-452a-f169-87f10e25a18e"
      },
      "execution_count": 9,
      "outputs": [
        {
          "output_type": "execute_result",
          "data": {
            "text/plain": [
              "<matplotlib.image.AxesImage at 0x7f95efeabac0>"
            ]
          },
          "metadata": {},
          "execution_count": 9
        },
        {
          "output_type": "display_data",
          "data": {
            "text/plain": [
              "<Figure size 432x288 with 2 Axes>"
            ],
            "image/png": "[encoded data removed]"
          },
          "metadata": {
            "needs_background": "light"
          }
        }
      ]
    },
    {
      "cell_type": "code",
      "source": [
        "plt.figure(1)\n",
        "plt.subplot(221)\n",
        "plt.imshow(X_train[100000,:,:,0])\n",
        "\n",
        "\n",
        "plt.subplot(222)\n",
        "plt.imshow(X_train[100000,:,:,1])"
      ],
      "metadata": {
        "colab": {
          "base_uri": "https://localhost:8080/",
          "height": 166
        },
        "id": "Vuwq9fBbqUMT",
        "outputId": "7a4877c4-1634-4a69-ebdc-021cb0083aaa"
      },
      "execution_count": 10,
      "outputs": [
        {
          "output_type": "execute_result",
          "data": {
            "text/plain": [
              "<matplotlib.image.AxesImage at 0x7f95efda2070>"
            ]
          },
          "metadata": {},
          "execution_count": 10
        },
        {
          "output_type": "display_data",
          "data": {
            "text/plain": [
              "<Figure size 432x288 with 2 Axes>"
            ],
            "image/png": "[encoded data removed]"
          },
          "metadata": {
            "needs_background": "light"
          }
        }
      ]
    },
    {
      "cell_type": "code",
      "source": [
        "tf.random.set_seed(42)\n",
        "\n",
        "model = Sequential([\n",
        "  Conv2D(32, (3,3), activation='relu', input_shape=(32, 32, 2)),\n",
        "  MaxPool2D((2,2)),\n",
        "  Conv2D(64, (3,3), activation='relu'),\n",
        "  Conv2D(64, (3,3), activation='relu'),\n",
        "  Conv2D(64, (3,3), activation='relu'),\n",
        "  Conv2D(64, (3,3), activation='relu'),\n",
        "  Conv2D(64, (3,3), activation='relu'),\n",
        "  MaxPool2D((2,2)),\n",
        "  Flatten(),\n",
        "  Dense(64, activation='relu'),\n",
        "  Dense(1, activation='sigmoid')\n",
        "])\n",
        "\n",
        "# Compile the model\n",
        "model.compile(loss=\"binary_crossentropy\",\n",
        "                optimizer=tf.keras.optimizers.Adam(),\n",
        "                metrics=[\"accuracy\"])\n",
        "\n",
        "# Fit the model\n",
        "history = model.fit(X_train, y_train, batch_size=32,\n",
        "                        epochs=10,\n",
        "                        validation_data=(X_val, y_val)\n",
        "                        )\n",
        "     "
      ],
      "metadata": {
        "colab": {
          "base_uri": "https://localhost:8080/"
        },
        "id": "NgBwm2CPtcpM",
        "outputId": "d05b601d-e8d9-4724-9334-673a4ead0d71"
      },
      "execution_count": 13,
      "outputs": [
        {
          "output_type": "stream",
          "name": "stdout",
          "text": [
            "Epoch 1/10\n",
            "4500/4500 [==============================] - 34s 7ms/step - loss: 0.6467 - accuracy: 0.6247 - val_loss: 0.6170 - val_accuracy: 0.6632\n",
            "Epoch 2/10\n",
            "4500/4500 [==============================] - 30s 7ms/step - loss: 0.6104 - accuracy: 0.6737 - val_loss: 0.5985 - val_accuracy: 0.6904\n",
            "Epoch 3/10\n",
            "4500/4500 [==============================] - 30s 7ms/step - loss: 0.5976 - accuracy: 0.6870 - val_loss: 0.5891 - val_accuracy: 0.6985\n",
            "Epoch 4/10\n",
            "4500/4500 [==============================] - 30s 7ms/step - loss: 0.5890 - accuracy: 0.6936 - val_loss: 0.5801 - val_accuracy: 0.7049\n",
            "Epoch 5/10\n",
            "4500/4500 [==============================] - 30s 7ms/step - loss: 0.5840 - accuracy: 0.6979 - val_loss: 0.5810 - val_accuracy: 0.7086\n",
            "Epoch 6/10\n",
            "4500/4500 [==============================] - 30s 7ms/step - loss: 0.5799 - accuracy: 0.7021 - val_loss: 0.5971 - val_accuracy: 0.7000\n",
            "Epoch 7/10\n",
            "4500/4500 [==============================] - 30s 7ms/step - loss: 0.5767 - accuracy: 0.7041 - val_loss: 0.5752 - val_accuracy: 0.7076\n",
            "Epoch 8/10\n",
            "4500/4500 [==============================] - 30s 7ms/step - loss: 0.5743 - accuracy: 0.7061 - val_loss: 0.5909 - val_accuracy: 0.6957\n",
            "Epoch 9/10\n",
            "4500/4500 [==============================] - 29s 7ms/step - loss: 0.5724 - accuracy: 0.7086 - val_loss: 0.5716 - val_accuracy: 0.7137\n",
            "Epoch 10/10\n",
            "4500/4500 [==============================] - 32s 7ms/step - loss: 0.5699 - accuracy: 0.7099 - val_loss: 0.5712 - val_accuracy: 0.7157\n"
          ]
        }
      ]
    },
    {
      "cell_type": "code",
      "source": [
        "def plot_loss_curves(history):\n",
        "  \"\"\"\n",
        "  Returns separate loss curves for training and validation metrics.\n",
        "  \"\"\" \n",
        "  loss = history.history['loss']\n",
        "  val_loss = history.history['val_loss']\n",
        "\n",
        "  accuracy = history.history['accuracy']\n",
        "  val_accuracy = history.history['val_accuracy']\n",
        "\n",
        "  epochs = range(len(history.history['loss']))\n",
        "\n",
        "  # Plot loss\n",
        "  plt.plot(epochs, loss, label='training_loss')\n",
        "  plt.plot(epochs, val_loss, label='val_loss')\n",
        "  plt.title('Loss')\n",
        "  plt.xlabel('Epochs')\n",
        "  plt.legend()\n",
        "\n",
        "  # Plot accuracy\n",
        "  plt.figure()\n",
        "  plt.plot(epochs, accuracy, label='training_accuracy')\n",
        "  plt.plot(epochs, val_accuracy, label='val_accuracy')\n",
        "  plt.title('Accuracy')\n",
        "  plt.xlabel('Epochs')\n",
        "  plt.legend();"
      ],
      "metadata": {
        "id": "p4FKvHDRuqI1"
      },
      "execution_count": 14,
      "outputs": []
    },
    {
      "cell_type": "code",
      "source": [
        "plot_loss_curves(history)"
      ],
      "metadata": {
        "colab": {
          "base_uri": "https://localhost:8080/",
          "height": 573
        },
        "id": "pHTdasu_y1vu",
        "outputId": "2ad87e08-183c-4696-beec-3e87e3a4c9a3"
      },
      "execution_count": 15,
      "outputs": [
        {
          "output_type": "display_data",
          "data": {
            "text/plain": [
              "<Figure size 432x288 with 1 Axes>"
            ],
            "image/png": "[encoded data removed]"
          },
          "metadata": {
            "needs_background": "light"
          }
        },
        {
          "output_type": "display_data",
          "data": {
            "text/plain": [
              "<Figure size 432x288 with 1 Axes>"
            ],
            "image/png": "[encoded data removed]"
          },
          "metadata": {
            "needs_background": "light"
          }
        }
      ]
    },
    {
      "cell_type": "code",
      "source": [
        "preds = model.evaluate(X_test, y_test)\n",
        "print (\"Loss = \" + str(preds[0]))\n",
        "print (\"Test Accuracy = \" + str(preds[1]))"
      ],
      "metadata": {
        "colab": {
          "base_uri": "https://localhost:8080/"
        },
        "id": "CwUuy11Ey53t",
        "outputId": "60def1c5-be44-43e5-dac6-b6f9054be9b4"
      },
      "execution_count": 16,
      "outputs": [
        {
          "output_type": "stream",
          "name": "stdout",
          "text": [
            "1250/1250 [==============================] - 4s 3ms/step - loss: 0.5743 - accuracy: 0.7099\n",
            "Loss = 0.5742504596710205\n",
            "Test Accuracy = 0.7099499702453613\n"
          ]
        }
      ]
    },
    {
      "cell_type": "code",
      "source": [
        "y_pred = model.predict(X_test)\n",
        "y_proba = np.argmax(X_test,axis=1)"
      ],
      "metadata": {
        "id": "9Y3-2T2H1zEL",
        "colab": {
          "base_uri": "https://localhost:8080/"
        },
        "outputId": "9fbc42ed-24ff-467a-b849-6f0ac56ee5dd"
      },
      "execution_count": 18,
      "outputs": [
        {
          "output_type": "stream",
          "name": "stdout",
          "text": [
            "1250/1250 [==============================] - 3s 3ms/step\n"
          ]
        }
      ]
    },
    {
      "cell_type": "code",
      "source": [
        "from sklearn.metrics import roc_curve\n",
        "from sklearn.metrics import RocCurveDisplay\n",
        "def plot_sklearn_roc_curve(y_real, y_pred):\n",
        "    fpr, tpr, _ = roc_curve(y_real, y_pred)\n",
        "    roc_display = RocCurveDisplay(fpr=fpr, tpr=tpr).plot()\n",
        "    roc_display.figure_.set_size_inches(5,5)\n",
        "    plt.plot([0, 1], [0, 1], color = 'g')\n",
        "# Plots the ROC curve using the sklearn methods - Good plot\n",
        "# Plots the ROC curve using the sklearn methods - Bad plot\n",
        "plot_sklearn_roc_curve(y_test, y_pred)"
      ],
      "metadata": {
        "colab": {
          "base_uri": "https://localhost:8080/",
          "height": 334
        },
        "id": "kQsz2T4QsImC",
        "outputId": "75bfd384-2061-46a4-9bc2-c014909c5ad1"
      },
      "execution_count": 20,
      "outputs": [
        {
          "output_type": "display_data",
          "data": {
            "text/plain": [
              "<Figure size 360x360 with 1 Axes>"
            ],
            "image/png": "[encoded data removed]"
          },
          "metadata": {
            "needs_background": "light"
          }
        }
      ]
    },
    {
      "cell_type": "code",
      "source": [
        "from sklearn.metrics import roc_auc_score\n",
        "score = roc_auc_score(y_test, y_pred)\n",
        "print(f\"ROC AUC: {score:.4f}\")"
      ],
      "metadata": {
        "colab": {
          "base_uri": "https://localhost:8080/"
        },
        "id": "Zo_1oP2cuoch",
        "outputId": "69b85805-75d1-4a4f-9f28-ded5dbcbbe06"
      },
      "execution_count": 21,
      "outputs": [
        {
          "output_type": "stream",
          "name": "stdout",
          "text": [
            "ROC AUC: 0.7708\n"
          ]
        }
      ]
    },
    {
      "cell_type": "code",
      "source": [],
      "metadata": {
        "id": "257TFMMiu6nb"
      },
      "execution_count": null,
      "outputs": []
    }
  ]
}